{
 "cells": [
  {
   "cell_type": "markdown",
   "metadata": {},
   "source": [
    "# Assignment 8\n",
    "Using any dataset that has a categorical feature that needs to be predicted, use several algorithms, preprocessing techniques, feature extraction techniques to fit the data to the model and show the accuracy, confusion matrix, and the classification report. G\n",
    "https://www.kaggle.com/ntnu-testimon/paysim1\n",
    "https://www.kaggle.com/joniarroba/noshowappointments\n",
    "https://archive.ics.uci.edu/ml/datasets.html?format=&task=cla&att=&area=&numAtt=&numIns=&type=&sort=nameUp&view=table\n",
    "https://archive.ics.uci.edu/ml/datasets/default+of+credit+card+clients\n",
    "https://archive.ics.uci.edu/ml/datasets/Adult"
   ]
  },
  {
   "cell_type": "markdown",
   "metadata": {},
   "source": [
    "I selected: https://www.kaggle.com/joniarroba/noshowappointments"
   ]
  },
  {
   "cell_type": "code",
   "execution_count": 1,
   "metadata": {},
   "outputs": [],
   "source": [
    "#Packages\n",
    "import numpy as np\n",
    "import matplotlib.pyplot as plt\n",
    "%matplotlib inline\n",
    "import seaborn as sns\n",
    "sns.set(font_scale=1.5)\n",
    "from sklearn import svm, datasets, preprocessing\n",
    "from sklearn.preprocessing import scale, LabelEncoder, OneHotEncoder, scale\n",
    "from sklearn.metrics import accuracy_score, confusion_matrix, classification_report\n",
    "import pandas as pd\n",
    "from pylab import rcParams\n",
    "rcParams['figure.figsize'] = 20,10\n",
    "\n",
    "#Models\n",
    "from sklearn.svm import SVC as Model_1 \n",
    "from sklearn.svm import LinearSVC as Model_2\n",
    "from sklearn.neighbors import KNeighborsClassifier as Model_3\n",
    "from sklearn.linear_model import LogisticRegression as Model_4\n"
   ]
  },
  {
   "cell_type": "code",
   "execution_count": 2,
   "metadata": {},
   "outputs": [],
   "source": [
    "#open dataset, downloaded from https://www.kaggle.com/joniarroba/noshowappointments\n",
    "df = pd.read_csv(r'C:\\Users\\carlb\\Desktop\\KaggleV2-May-2016.csv')\n",
    "df.dropna(inplace=True)"
   ]
  },
  {
   "cell_type": "markdown",
   "metadata": {},
   "source": [
    "# Preprocessing"
   ]
  },
  {
   "cell_type": "code",
   "execution_count": 3,
   "metadata": {},
   "outputs": [],
   "source": [
    "#Get Dummies:\n",
    "\n",
    "#Gender\n",
    "df = pd.concat([df,pd.get_dummies(df['Gender'], prefix='Gender',dummy_na=True)],axis=1)\n",
    "\n",
    "#No-show\n",
    "df = pd.concat([df,pd.get_dummies(df['No-show'], prefix='No-show',dummy_na=True)],axis=1)\n",
    "#SMS_received\n",
    "df = pd.concat([df,pd.get_dummies(df['SMS_received'], prefix='SMS_received',dummy_na=True)],axis=1)"
   ]
  },
  {
   "cell_type": "code",
   "execution_count": 4,
   "metadata": {},
   "outputs": [],
   "source": [
    "#Binary object-columns to int64\n",
    "\n",
    "#Gender\n",
    "df['Gender'] = df['Gender'].replace('F','0')\n",
    "df['Gender'] = df['Gender'].replace('M','1.0')\n",
    "df[\"Gender\"] = pd.to_numeric(df[\"Gender\"])\n",
    "\n",
    "#SMS_received\n",
    "df['SMS_received'] = df['SMS_received'].replace('Yes','1.0')\n",
    "df['SMS_received'] = df['SMS_received'].replace('No','0')\n",
    "df[\"SMS_received\"] = pd.to_numeric(df[\"SMS_received\"])\n",
    "\n",
    "#No-Show\n",
    "df['No-show'] = df['No-show'].replace('Yes','1.0')\n",
    "df['No-show'] = df['No-show'].replace('No','0')\n",
    "df[\"No-show\"] = pd.to_numeric(df[\"No-show\"])"
   ]
  },
  {
   "cell_type": "code",
   "execution_count": 5,
   "metadata": {},
   "outputs": [],
   "source": [
    "#Date-objects to datetime format\n",
    "\n",
    "#ScheduledDay\n",
    "df['parsed_ScheduledDay'] = pd.to_datetime(df.ScheduledDay)\n",
    "\n",
    "#AppointmentDay\n",
    "df['parsed_AppointmentDay'] = pd.to_datetime(df.AppointmentDay)\n"
   ]
  },
  {
   "cell_type": "markdown",
   "metadata": {},
   "source": [
    "# Feature Selection"
   ]
  },
  {
   "cell_type": "code",
   "execution_count": 6,
   "metadata": {},
   "outputs": [],
   "source": [
    "#Assignment of Month Variable\n",
    "df['month'] = df.parsed_ScheduledDay.dt.month"
   ]
  },
  {
   "cell_type": "code",
   "execution_count": 7,
   "metadata": {},
   "outputs": [],
   "source": [
    "#Assignment of Day of week Variable\n",
    "df['dayofweek'] = df.parsed_ScheduledDay.dt.dayofweek"
   ]
  },
  {
   "cell_type": "code",
   "execution_count": 8,
   "metadata": {},
   "outputs": [],
   "source": [
    "#Time between scheduled day and appointment day:\n",
    "\n",
    "#(1)Calculate difference\n",
    "#df['time_between'] = df['parsed_AppointmentDay'] - df['parsed_ScheduledDay']\n",
    "\n",
    "#(2)convert to int64\n",
    "#df['time_between'] = df['time_between'] / np.timedelta64(1, 's') / 86400\n",
    "\n",
    "#(3)convert same-day-scheduled (neg values to positive) & to float64\n",
    "\n",
    "#I did this block in excel. Couldn't wrap my head around the writing the function to convert neg values to postivive in python.  \n"
   ]
  },
  {
   "cell_type": "code",
   "execution_count": 9,
   "metadata": {},
   "outputs": [
    {
     "data": {
      "text/plain": [
       "PatientId                       float64\n",
       "AppointmentID                     int64\n",
       "Gender                          float64\n",
       "ScheduledDay                     object\n",
       "AppointmentDay                   object\n",
       "Age                               int64\n",
       "Neighbourhood                    object\n",
       "Scholarship                       int64\n",
       "Hipertension                      int64\n",
       "Diabetes                          int64\n",
       "Alcoholism                        int64\n",
       "Handcap                           int64\n",
       "SMS_received                      int64\n",
       "No-show                         float64\n",
       "time_between                      int64\n",
       "Gender_F                          uint8\n",
       "Gender_M                          uint8\n",
       "Gender_nan                        uint8\n",
       "No-show_No                        uint8\n",
       "No-show_Yes                       uint8\n",
       "No-show_nan                       uint8\n",
       "SMS_received_0.0                  uint8\n",
       "SMS_received_1.0                  uint8\n",
       "SMS_received_nan                  uint8\n",
       "parsed_ScheduledDay      datetime64[ns]\n",
       "parsed_AppointmentDay    datetime64[ns]\n",
       "month                             int64\n",
       "dayofweek                         int64\n",
       "dtype: object"
      ]
     },
     "execution_count": 9,
     "metadata": {},
     "output_type": "execute_result"
    }
   ],
   "source": [
    "df.dtypes"
   ]
  },
  {
   "cell_type": "markdown",
   "metadata": {},
   "source": [
    "# Fun Part:"
   ]
  },
  {
   "cell_type": "markdown",
   "metadata": {},
   "source": [
    "SVC (would run for 20 mins then stall, according to Task Manager)"
   ]
  },
  {
   "cell_type": "code",
   "execution_count": null,
   "metadata": {},
   "outputs": [],
   "source": [
    "#Model 1 (SVC)\n",
    "feature_cols = ['time_between','Age','SMS_received']\n",
    "X = df[feature_cols]\n",
    "y = df['No-show']\n",
    "\n",
    "model = Model_1()\n",
    "model.fit(X,y)\n",
    "\n",
    "df['pred_1'] = model.predict(X)\n",
    "\n",
    "from sklearn.metrics import accuracy_score\n",
    "print(\"Accuracy Score:\",accuracy_score(df['No-show'], df.pred_1.round()))\n",
    "print(\" \")\n",
    "print(\"Confustion Matrix:\")\n",
    "print(confusion_matrix(df['No-show'], df.pred_1.round()))\n",
    "print(\" \")\n",
    "print(\"Classification Report:\")\n",
    "print(classification_report(df['No-show'], df.pred_1.round()))\n",
    "print(\"-----------------------------------------------------------------------------\")"
   ]
  },
  {
   "cell_type": "markdown",
   "metadata": {},
   "source": [
    "Linear SVC"
   ]
  },
  {
   "cell_type": "code",
   "execution_count": 10,
   "metadata": {},
   "outputs": [
    {
     "name": "stdout",
     "output_type": "stream",
     "text": [
      "Accuracy Score: 0.7977598233915695\n",
      " \n",
      "Confustion Matrix:\n",
      "[[88141    67]\n",
      " [22286    33]]\n",
      " \n",
      "Classification Report:\n",
      "             precision    recall  f1-score   support\n",
      "\n",
      "        0.0       0.80      1.00      0.89     88208\n",
      "        1.0       0.33      0.00      0.00     22319\n",
      "\n",
      "avg / total       0.70      0.80      0.71    110527\n",
      "\n",
      "-----------------------------------------------------------------------------\n"
     ]
    }
   ],
   "source": [
    "#Model 2 (Linear SVC)\n",
    "feature_cols = ['time_between','Age','SMS_received']\n",
    "X = df[feature_cols]\n",
    "y = df['No-show']\n",
    "\n",
    "model = Model_2()\n",
    "model.fit(X,y)\n",
    "\n",
    "df['pred_2'] = model.predict(X)\n",
    "\n",
    "from sklearn.metrics import accuracy_score\n",
    "print(\"Accuracy Score:\",accuracy_score(df['No-show'], df.pred_2.round()))\n",
    "print(\" \")\n",
    "print(\"Confustion Matrix:\")\n",
    "print(confusion_matrix(df['No-show'], df.pred_2.round()))\n",
    "print(\" \")\n",
    "print(\"Classification Report:\")\n",
    "print(classification_report(df['No-show'], df.pred_2.round()))\n",
    "print(\"-----------------------------------------------------------------------------\")"
   ]
  },
  {
   "cell_type": "markdown",
   "metadata": {},
   "source": [
    "Nearest Neighbors"
   ]
  },
  {
   "cell_type": "code",
   "execution_count": 11,
   "metadata": {},
   "outputs": [
    {
     "name": "stdout",
     "output_type": "stream",
     "text": [
      "Accuracy Score: 0.7979860124675419\n",
      " \n",
      "Confustion Matrix:\n",
      "[[84696  3512]\n",
      " [18816  3503]]\n",
      " \n",
      "Classification Report:\n",
      "             precision    recall  f1-score   support\n",
      "\n",
      "        0.0       0.82      0.96      0.88     88208\n",
      "        1.0       0.50      0.16      0.24     22319\n",
      "\n",
      "avg / total       0.75      0.80      0.75    110527\n",
      "\n",
      "-----------------------------------------------------------------------------\n"
     ]
    }
   ],
   "source": [
    "#Model 3 (Nearest Neighbors)\n",
    "feature_cols = ['time_between','Age','SMS_received']\n",
    "X = (df[feature_cols])\n",
    "y = df['No-show']\n",
    "\n",
    "model = Model_3(2)\n",
    "model.fit(X,y)\n",
    "\n",
    "df['pred_3'] = model.predict(X)\n",
    "\n",
    "from sklearn.metrics import accuracy_score\n",
    "print(\"Accuracy Score:\",accuracy_score(df['No-show'], df.pred_3.round()))\n",
    "print(\" \")\n",
    "print(\"Confustion Matrix:\")\n",
    "print(confusion_matrix(df['No-show'], df.pred_3.round()))\n",
    "print(\" \")\n",
    "print(\"Classification Report:\")\n",
    "print(classification_report(df['No-show'], df.pred_3.round()))\n",
    "print(\"-----------------------------------------------------------------------------\")"
   ]
  },
  {
   "cell_type": "code",
   "execution_count": 12,
   "metadata": {},
   "outputs": [
    {
     "name": "stdout",
     "output_type": "stream",
     "text": [
      "Accuracy Score: 0.795027459353823\n",
      " \n",
      "Confustion Matrix:\n",
      "[[87566   642]\n",
      " [22013   306]]\n",
      " \n",
      "Classification Report:\n",
      "             precision    recall  f1-score   support\n",
      "\n",
      "        0.0       0.80      0.99      0.89     88208\n",
      "        1.0       0.32      0.01      0.03     22319\n",
      "\n",
      "avg / total       0.70      0.80      0.71    110527\n",
      "\n"
     ]
    }
   ],
   "source": [
    "#Model 4 (Logistic Regression)\n",
    "feature_cols = ['time_between','Age','SMS_received']\n",
    "X = df[feature_cols]\n",
    "y = df['No-show']\n",
    "\n",
    "model = Model_4()\n",
    "model.fit(X,y)\n",
    "\n",
    "df['pred_4'] = model.predict(X)\n",
    "\n",
    "from sklearn.metrics import accuracy_score\n",
    "print(\"Accuracy Score:\",accuracy_score(df['No-show'], df.pred_4.round()))\n",
    "print(\" \")\n",
    "print(\"Confustion Matrix:\")\n",
    "print(confusion_matrix(df['No-show'], df.pred_4.round()))\n",
    "print(\" \")\n",
    "print(\"Classification Report:\")\n",
    "print(classification_report(df['No-show'], df.pred_4.round()))"
   ]
  },
  {
   "cell_type": "code",
   "execution_count": 13,
   "metadata": {},
   "outputs": [],
   "source": [
    "df.to_csv(r'C:\\Users\\carlb\\Desktop\\model_out.csv')"
   ]
  }
 ],
 "metadata": {
  "kernelspec": {
   "display_name": "Python 3",
   "language": "python",
   "name": "python3"
  },
  "language_info": {
   "codemirror_mode": {
    "name": "ipython",
    "version": 3
   },
   "file_extension": ".py",
   "mimetype": "text/x-python",
   "name": "python",
   "nbconvert_exporter": "python",
   "pygments_lexer": "ipython3",
   "version": "3.7.0"
  }
 },
 "nbformat": 4,
 "nbformat_minor": 2
}
