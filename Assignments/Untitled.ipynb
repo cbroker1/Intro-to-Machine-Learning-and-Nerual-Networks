{
 "cells": [
  {
   "cell_type": "code",
   "execution_count": null,
   "metadata": {},
   "outputs": [],
   "source": [
    "def start(url):\n",
    "    word_list = []\n",
    "    source_code = requests.get(url).text\n",
    "    soup = BeautifulSoup(source_code)\n",
    "    for post_text in soup.findAll('a', {'class': 'index_singleListingTitles'}):\n",
    "        content = post_text.string\n",
    "        words = content.lower().split()\n",
    "        for each_word in words:\n",
    "            print(each_word)\n",
    "            word_list.append(each_word)\n",
    "    clean_up_list(word_list)\n",
    "    \n",
    "def clean_up_list(word_list):\n",
    "    clean_word_list = []\n",
    "    for word in word_list:\n",
    "        accepted = \"abcdefghijklmnopqrstuvwxyz\\'\"\n",
    "        for c in list(word):\n",
    "            if c not in list(accepted):\n",
    "                word = word.replace(c, \"\")\n",
    "        if len(word) > 0:\n",
    "            print(word)\n",
    "            clean_word_list.append(word)\n",
    "\n",
    "def create_dictionary(clean_word_list):\n",
    "    word_count = {}\n",
    "    for word in clean_word_list:\n",
    "        if word in word_count:\n",
    "            word_count[word] += 1\n",
    "        else:\n",
    "            word_count[word] = 1\n",
    "    for key, value in sorted(word_count.items(), key=operator.itemgetter(1)):\n",
    "        print(key, value)\n",
    "        \n",
    "start(\"http://www.glozman.com/TextPages/Harry%20Potter%201%20-%20Sorcerer's%20Stone.txt\")"
   ]
  }
 ],
 "metadata": {
  "kernelspec": {
   "display_name": "Python 3",
   "language": "python",
   "name": "python3"
  },
  "language_info": {
   "codemirror_mode": {
    "name": "ipython",
    "version": 3
   },
   "file_extension": ".py",
   "mimetype": "text/x-python",
   "name": "python",
   "nbconvert_exporter": "python",
   "pygments_lexer": "ipython3",
   "version": "3.7.0"
  }
 },
 "nbformat": 4,
 "nbformat_minor": 2
}
