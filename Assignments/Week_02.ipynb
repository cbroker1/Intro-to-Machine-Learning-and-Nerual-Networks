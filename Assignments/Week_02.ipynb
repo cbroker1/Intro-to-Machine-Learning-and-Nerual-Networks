{
 "cells": [
  {
   "cell_type": "code",
   "execution_count": 2,
   "metadata": {},
   "outputs": [],
   "source": [
    "import numpy as np\n",
    "import pandas as pd\n",
    "import scipy as sp"
   ]
  },
  {
   "cell_type": "code",
   "execution_count": 3,
   "metadata": {},
   "outputs": [],
   "source": [
    "%matplotlib inline\n",
    "import matplotlib.pyplot as plt\n",
    "plt.style.use('ggplot')"
   ]
  },
  {
   "cell_type": "code",
   "execution_count": 4,
   "metadata": {},
   "outputs": [
    {
     "name": "stdout",
     "output_type": "stream",
     "text": [
      "Overwriting hw_data.csv\n"
     ]
    }
   ],
   "source": [
    "%%file hw_data.csv\n",
    "id,sex,weight,height\n",
    "1,M,190,77\n",
    "2,F,120,70\n",
    "3,F,110,68\n",
    "4,M,150,72\n",
    "5,O,120,66\n",
    "6,M,120,60\n",
    "7,F,140,70"
   ]
  },
  {
   "cell_type": "markdown",
   "metadata": {},
   "source": [
    "# Python"
   ]
  },
  {
   "cell_type": "markdown",
   "metadata": {},
   "source": [
    "## 1. Finish creating the following function that takes a list and returns the average value."
   ]
  },
  {
   "cell_type": "code",
   "execution_count": 20,
   "metadata": {},
   "outputs": [
    {
     "ename": "IndentationError",
     "evalue": "expected an indented block (<ipython-input-20-f4815fd8c17d>, line 6)",
     "output_type": "error",
     "traceback": [
      "\u001b[1;36m  File \u001b[1;32m\"<ipython-input-20-f4815fd8c17d>\"\u001b[1;36m, line \u001b[1;32m6\u001b[0m\n\u001b[1;33m    return mean()\u001b[0m\n\u001b[1;37m         ^\u001b[0m\n\u001b[1;31mIndentationError\u001b[0m\u001b[1;31m:\u001b[0m expected an indented block\n"
     ]
    }
   ],
   "source": [
    "def average(my_list):\n",
    "    total = 0\n",
    "    for mean in my_list:\n",
    "        #do something with item!\n",
    "    \n",
    "    return mean()\n",
    "\n",
    "average([1,2,1,4,3,2,5,9])"
   ]
  },
  {
   "cell_type": "markdown",
   "metadata": {},
   "source": [
    "## 2. Using a Dictionary keep track of the count of numbers (or items) from a list"
   ]
  },
  {
   "cell_type": "code",
   "execution_count": 21,
   "metadata": {},
   "outputs": [
    {
     "ename": "IndentationError",
     "evalue": "expected an indented block (<ipython-input-21-cc0f829a73c5>, line 6)",
     "output_type": "error",
     "traceback": [
      "\u001b[1;36m  File \u001b[1;32m\"<ipython-input-21-cc0f829a73c5>\"\u001b[1;36m, line \u001b[1;32m6\u001b[0m\n\u001b[1;33m    return counts\u001b[0m\n\u001b[1;37m         ^\u001b[0m\n\u001b[1;31mIndentationError\u001b[0m\u001b[1;31m:\u001b[0m expected an indented block\n"
     ]
    }
   ],
   "source": [
    "def counts(my_list):\n",
    "    counts = dict()\n",
    "    for count() in my_list:\n",
    "        #do something with item!\n",
    "    \n",
    "    return counts\n",
    "\n",
    "counts([1,2,1,4,3,2,5,9])    "
   ]
  },
  {
   "cell_type": "markdown",
   "metadata": {},
   "source": [
    "## 3.  Using the `counts()` function and the `.split()` function, return a dictionary of most occuring words from the following paragraph. Bonus, remove punctuation from words."
   ]
  },
  {
   "cell_type": "code",
   "execution_count": 8,
   "metadata": {},
   "outputs": [],
   "source": [
    "paragraph_text = '''\n",
    "For a minute or two she stood looking at the house, and wondering what to do next, when suddenly a footman in livery came running out of the wood—(she considered him to be a footman because he was in livery: otherwise, judging by his face only, she would have called him a fish)—and rapped loudly at the door with his knuckles. It was opened by another footman in livery, with a round face, and large eyes like a frog; and both footmen, Alice noticed, had powdered hair that curled all over their heads. She felt very curious to know what it was all about, and crept a little way out of the wood to listen.\n",
    "The Fish-Footman began by producing from under his arm a great letter, nearly as large as himself, and this he handed over to the other, saying, in a solemn tone, ‘For the Duchess. An invitation from the Queen to play croquet.’ The Frog-Footman repeated, in the same solemn tone, only changing the order of the words a little, ‘From the Queen. An invitation for the Duchess to play croquet.’\n",
    "Then they both bowed low, and their curls got entangled together.\n",
    "Alice laughed so much at this, that she had to run back into the wood for fear of their hearing her; and when she next peeped out the Fish-Footman was gone, and the other was sitting on the ground near the door, staring stupidly up into the sky.\n",
    "Alice went timidly up to the door, and knocked.\n",
    "‘There’s no sort of use in knocking,’ said the Footman, ‘and that for two reasons. First, because I’m on the same side of the door as you are; secondly, because they’re making such a noise inside, no one could possibly hear you.’ And certainly there was a most extraordinary noise going on within—a constant howling and sneezing, and every now and then a great crash, as if a dish or kettle had been broken to pieces.\n",
    "‘Please, then,’ said Alice, ‘how am I to get in?’\n",
    "‘There might be some sense in your knocking,’ the Footman went on without attending to her, ‘if we had the door between us. For instance, if you were inside, you might knock, and I could let you out, you know.’ He was looking up into the sky all the time he was speaking, and this Alice thought decidedly uncivil. ‘But perhaps he can’t help it,’ she said to herself; ‘his eyes are so very nearly at the top of his head. But at any rate he might answer questions.—How am I to get in?’ she repeated, aloud.\n",
    "‘I shall sit here,’ the Footman remarked, ‘till tomorrow—’\n",
    "At this moment the door of the house opened, and a large plate came skimming out, straight at the Footman’s head: it just grazed his nose, and broke to pieces against one of the trees behind him.'''\n"
   ]
  },
  {
   "cell_type": "code",
   "execution_count": 9,
   "metadata": {},
   "outputs": [],
   "source": [
    "# remove punctuation\n",
    "for char in ',‘?’—)(.:;\\n':\n",
    "    paragraph_text=paragraph_text.replace(char,' ')\n",
    "# remove upper case\n",
    "paragraph_text=paragraph_text.lower()"
   ]
  },
  {
   "cell_type": "code",
   "execution_count": 10,
   "metadata": {},
   "outputs": [
    {
     "name": "stdout",
     "output_type": "stream",
     "text": [
      " for a minute or two she stood looking at the house  and wondering what to do next  when suddenly a footman in livery came running out of the wood  she considered him to be a footman because he was in livery  otherwise  judging by his face only  she would have called him a fish  and rapped loudly at the door with his knuckles  it was opened by another footman in livery  with a round face  and large eyes like a frog  and both footmen  alice noticed  had powdered hair that curled all over their heads  she felt very curious to know what it was all about  and crept a little way out of the wood to listen  the fish-footman began by producing from under his arm a great letter  nearly as large as himself  and this he handed over to the other  saying  in a solemn tone   for the duchess  an invitation from the queen to play croquet   the frog-footman repeated  in the same solemn tone  only changing the order of the words a little   from the queen  an invitation for the duchess to play croquet   then they both bowed low  and their curls got entangled together  alice laughed so much at this  that she had to run back into the wood for fear of their hearing her  and when she next peeped out the fish-footman was gone  and the other was sitting on the ground near the door  staring stupidly up into the sky  alice went timidly up to the door  and knocked   there s no sort of use in knocking   said the footman   and that for two reasons  first  because i m on the same side of the door as you are  secondly  because they re making such a noise inside  no one could possibly hear you   and certainly there was a most extraordinary noise going on within a constant howling and sneezing  and every now and then a great crash  as if a dish or kettle had been broken to pieces   please  then   said alice   how am i to get in    there might be some sense in your knocking   the footman went on without attending to her   if we had the door between us  for instance  if you were inside  you might knock  and i could let you out  you know   he was looking up into the sky all the time he was speaking  and this alice thought decidedly uncivil   but perhaps he can t help it   she said to herself   his eyes are so very nearly at the top of his head  but at any rate he might answer questions  how am i to get in   she repeated  aloud   i shall sit here   the footman remarked   till tomorrow   at this moment the door of the house opened  and a large plate came skimming out  straight at the footman s head  it just grazed his nose  and broke to pieces against one of the trees behind him \n"
     ]
    }
   ],
   "source": [
    "print(paragraph_text)"
   ]
  },
  {
   "cell_type": "code",
   "execution_count": 11,
   "metadata": {
    "scrolled": false
   },
   "outputs": [
    {
     "name": "stdout",
     "output_type": "stream",
     "text": [
      "['for', 'a', 'minute', 'or', 'two', 'she', 'stood', 'looking', 'at', 'the', 'house', 'and', 'wondering', 'what', 'to', 'do', 'next', 'when', 'suddenly', 'a', 'footman', 'in', 'livery', 'came', 'running', 'out', 'of', 'the', 'wood', 'she', 'considered', 'him', 'to', 'be', 'a', 'footman', 'because', 'he', 'was', 'in', 'livery', 'otherwise', 'judging', 'by', 'his', 'face', 'only', 'she', 'would', 'have', 'called', 'him', 'a', 'fish', 'and', 'rapped', 'loudly', 'at', 'the', 'door', 'with', 'his', 'knuckles', 'it', 'was', 'opened', 'by', 'another', 'footman', 'in', 'livery', 'with', 'a', 'round', 'face', 'and', 'large', 'eyes', 'like', 'a', 'frog', 'and', 'both', 'footmen', 'alice', 'noticed', 'had', 'powdered', 'hair', 'that', 'curled', 'all', 'over', 'their', 'heads', 'she', 'felt', 'very', 'curious', 'to', 'know', 'what', 'it', 'was', 'all', 'about', 'and', 'crept', 'a', 'little', 'way', 'out', 'of', 'the', 'wood', 'to', 'listen', 'the', 'fish-footman', 'began', 'by', 'producing', 'from', 'under', 'his', 'arm', 'a', 'great', 'letter', 'nearly', 'as', 'large', 'as', 'himself', 'and', 'this', 'he', 'handed', 'over', 'to', 'the', 'other', 'saying', 'in', 'a', 'solemn', 'tone', 'for', 'the', 'duchess', 'an', 'invitation', 'from', 'the', 'queen', 'to', 'play', 'croquet', 'the', 'frog-footman', 'repeated', 'in', 'the', 'same', 'solemn', 'tone', 'only', 'changing', 'the', 'order', 'of', 'the', 'words', 'a', 'little', 'from', 'the', 'queen', 'an', 'invitation', 'for', 'the', 'duchess', 'to', 'play', 'croquet', 'then', 'they', 'both', 'bowed', 'low', 'and', 'their', 'curls', 'got', 'entangled', 'together', 'alice', 'laughed', 'so', 'much', 'at', 'this', 'that', 'she', 'had', 'to', 'run', 'back', 'into', 'the', 'wood', 'for', 'fear', 'of', 'their', 'hearing', 'her', 'and', 'when', 'she', 'next', 'peeped', 'out', 'the', 'fish-footman', 'was', 'gone', 'and', 'the', 'other', 'was', 'sitting', 'on', 'the', 'ground', 'near', 'the', 'door', 'staring', 'stupidly', 'up', 'into', 'the', 'sky', 'alice', 'went', 'timidly', 'up', 'to', 'the', 'door', 'and', 'knocked', 'there', 's', 'no', 'sort', 'of', 'use', 'in', 'knocking', 'said', 'the', 'footman', 'and', 'that', 'for', 'two', 'reasons', 'first', 'because', 'i', 'm', 'on', 'the', 'same', 'side', 'of', 'the', 'door', 'as', 'you', 'are', 'secondly', 'because', 'they', 're', 'making', 'such', 'a', 'noise', 'inside', 'no', 'one', 'could', 'possibly', 'hear', 'you', 'and', 'certainly', 'there', 'was', 'a', 'most', 'extraordinary', 'noise', 'going', 'on', 'within', 'a', 'constant', 'howling', 'and', 'sneezing', 'and', 'every', 'now', 'and', 'then', 'a', 'great', 'crash', 'as', 'if', 'a', 'dish', 'or', 'kettle', 'had', 'been', 'broken', 'to', 'pieces', 'please', 'then', 'said', 'alice', 'how', 'am', 'i', 'to', 'get', 'in', 'there', 'might', 'be', 'some', 'sense', 'in', 'your', 'knocking', 'the', 'footman', 'went', 'on', 'without', 'attending', 'to', 'her', 'if', 'we', 'had', 'the', 'door', 'between', 'us', 'for', 'instance', 'if', 'you', 'were', 'inside', 'you', 'might', 'knock', 'and', 'i', 'could', 'let', 'you', 'out', 'you', 'know', 'he', 'was', 'looking', 'up', 'into', 'the', 'sky', 'all', 'the', 'time', 'he', 'was', 'speaking', 'and', 'this', 'alice', 'thought', 'decidedly', 'uncivil', 'but', 'perhaps', 'he', 'can', 't', 'help', 'it', 'she', 'said', 'to', 'herself', 'his', 'eyes', 'are', 'so', 'very', 'nearly', 'at', 'the', 'top', 'of', 'his', 'head', 'but', 'at', 'any', 'rate', 'he', 'might', 'answer', 'questions', 'how', 'am', 'i', 'to', 'get', 'in', 'she', 'repeated', 'aloud', 'i', 'shall', 'sit', 'here', 'the', 'footman', 'remarked', 'till', 'tomorrow', 'at', 'this', 'moment', 'the', 'door', 'of', 'the', 'house', 'opened', 'and', 'a', 'large', 'plate', 'came', 'skimming', 'out', 'straight', 'at', 'the', 'footman', 's', 'head', 'it', 'just', 'grazed', 'his', 'nose', 'and', 'broke', 'to', 'pieces', 'against', 'one', 'of', 'the', 'trees', 'behind', 'him']\n"
     ]
    }
   ],
   "source": [
    "#convert text to string\n",
    "word_list = paragraph_text.split()\n",
    "print(word_list)"
   ]
  },
  {
   "cell_type": "code",
   "execution_count": 13,
   "metadata": {
    "scrolled": false
   },
   "outputs": [
    {
     "data": {
      "text/plain": [
       "{'for': 6,\n",
       " 'a': 16,\n",
       " 'minute': 1,\n",
       " 'or': 2,\n",
       " 'two': 2,\n",
       " 'she': 8,\n",
       " 'stood': 1,\n",
       " 'looking': 2,\n",
       " 'at': 7,\n",
       " 'the': 34,\n",
       " 'house': 2,\n",
       " 'and': 19,\n",
       " 'wondering': 1,\n",
       " 'what': 2,\n",
       " 'to': 15,\n",
       " 'do': 1,\n",
       " 'next': 2,\n",
       " 'when': 2,\n",
       " 'suddenly': 1,\n",
       " 'footman': 7,\n",
       " 'in': 9,\n",
       " 'livery': 3,\n",
       " 'came': 2,\n",
       " 'running': 1,\n",
       " 'out': 5,\n",
       " 'of': 9,\n",
       " 'wood': 3,\n",
       " 'considered': 1,\n",
       " 'him': 3,\n",
       " 'be': 2,\n",
       " 'because': 3,\n",
       " 'he': 6,\n",
       " 'was': 8,\n",
       " 'otherwise': 1,\n",
       " 'judging': 1,\n",
       " 'by': 3,\n",
       " 'his': 6,\n",
       " 'face': 2,\n",
       " 'only': 2,\n",
       " 'would': 1,\n",
       " 'have': 1,\n",
       " 'called': 1,\n",
       " 'fish': 1,\n",
       " 'rapped': 1,\n",
       " 'loudly': 1,\n",
       " 'door': 6,\n",
       " 'with': 2,\n",
       " 'knuckles': 1,\n",
       " 'it': 4,\n",
       " 'opened': 2,\n",
       " 'another': 1,\n",
       " 'round': 1,\n",
       " 'large': 3,\n",
       " 'eyes': 2,\n",
       " 'like': 1,\n",
       " 'frog': 1,\n",
       " 'both': 2,\n",
       " 'footmen': 1,\n",
       " 'alice': 5,\n",
       " 'noticed': 1,\n",
       " 'had': 4,\n",
       " 'powdered': 1,\n",
       " 'hair': 1,\n",
       " 'that': 3,\n",
       " 'curled': 1,\n",
       " 'all': 3,\n",
       " 'over': 2,\n",
       " 'their': 3,\n",
       " 'heads': 1,\n",
       " 'felt': 1,\n",
       " 'very': 2,\n",
       " 'curious': 1,\n",
       " 'know': 2,\n",
       " 'about': 1,\n",
       " 'crept': 1,\n",
       " 'little': 2,\n",
       " 'way': 1,\n",
       " 'listen': 1,\n",
       " 'fish-footman': 2,\n",
       " 'began': 1,\n",
       " 'producing': 1,\n",
       " 'from': 3,\n",
       " 'under': 1,\n",
       " 'arm': 1,\n",
       " 'great': 2,\n",
       " 'letter': 1,\n",
       " 'nearly': 2,\n",
       " 'as': 4,\n",
       " 'himself': 1,\n",
       " 'this': 4,\n",
       " 'handed': 1,\n",
       " 'other': 2,\n",
       " 'saying': 1,\n",
       " 'solemn': 2,\n",
       " 'tone': 2,\n",
       " 'duchess': 2,\n",
       " 'an': 2,\n",
       " 'invitation': 2,\n",
       " 'queen': 2,\n",
       " 'play': 2,\n",
       " 'croquet': 2,\n",
       " 'frog-footman': 1,\n",
       " 'repeated': 2,\n",
       " 'same': 2,\n",
       " 'changing': 1,\n",
       " 'order': 1,\n",
       " 'words': 1,\n",
       " 'then': 3,\n",
       " 'they': 2,\n",
       " 'bowed': 1,\n",
       " 'low': 1,\n",
       " 'curls': 1,\n",
       " 'got': 1,\n",
       " 'entangled': 1,\n",
       " 'together': 1,\n",
       " 'laughed': 1,\n",
       " 'so': 2,\n",
       " 'much': 1,\n",
       " 'run': 1,\n",
       " 'back': 1,\n",
       " 'into': 3,\n",
       " 'fear': 1,\n",
       " 'hearing': 1,\n",
       " 'her': 2,\n",
       " 'peeped': 1,\n",
       " 'gone': 1,\n",
       " 'sitting': 1,\n",
       " 'on': 4,\n",
       " 'ground': 1,\n",
       " 'near': 1,\n",
       " 'staring': 1,\n",
       " 'stupidly': 1,\n",
       " 'up': 3,\n",
       " 'sky': 2,\n",
       " 'went': 2,\n",
       " 'timidly': 1,\n",
       " 'knocked': 1,\n",
       " 'there': 3,\n",
       " 's': 2,\n",
       " 'no': 2,\n",
       " 'sort': 1,\n",
       " 'use': 1,\n",
       " 'knocking': 2,\n",
       " 'said': 3,\n",
       " 'reasons': 1,\n",
       " 'first': 1,\n",
       " 'i': 5,\n",
       " 'm': 1,\n",
       " 'side': 1,\n",
       " 'you': 6,\n",
       " 'are': 2,\n",
       " 'secondly': 1,\n",
       " 're': 1,\n",
       " 'making': 1,\n",
       " 'such': 1,\n",
       " 'noise': 2,\n",
       " 'inside': 2,\n",
       " 'one': 2,\n",
       " 'could': 2,\n",
       " 'possibly': 1,\n",
       " 'hear': 1,\n",
       " 'certainly': 1,\n",
       " 'most': 1,\n",
       " 'extraordinary': 1,\n",
       " 'going': 1,\n",
       " 'within': 1,\n",
       " 'constant': 1,\n",
       " 'howling': 1,\n",
       " 'sneezing': 1,\n",
       " 'every': 1,\n",
       " 'now': 1,\n",
       " 'crash': 1,\n",
       " 'if': 3,\n",
       " 'dish': 1,\n",
       " 'kettle': 1,\n",
       " 'been': 1,\n",
       " 'broken': 1,\n",
       " 'pieces': 2,\n",
       " 'please': 1,\n",
       " 'how': 2,\n",
       " 'am': 2,\n",
       " 'get': 2,\n",
       " 'might': 3,\n",
       " 'some': 1,\n",
       " 'sense': 1,\n",
       " 'your': 1,\n",
       " 'without': 1,\n",
       " 'attending': 1,\n",
       " 'we': 1,\n",
       " 'between': 1,\n",
       " 'us': 1,\n",
       " 'instance': 1,\n",
       " 'were': 1,\n",
       " 'knock': 1,\n",
       " 'let': 1,\n",
       " 'time': 1,\n",
       " 'speaking': 1,\n",
       " 'thought': 1,\n",
       " 'decidedly': 1,\n",
       " 'uncivil': 1,\n",
       " 'but': 2,\n",
       " 'perhaps': 1,\n",
       " 'can': 1,\n",
       " 't': 1,\n",
       " 'help': 1,\n",
       " 'herself': 1,\n",
       " 'top': 1,\n",
       " 'head': 2,\n",
       " 'any': 1,\n",
       " 'rate': 1,\n",
       " 'answer': 1,\n",
       " 'questions': 1,\n",
       " 'aloud': 1,\n",
       " 'shall': 1,\n",
       " 'sit': 1,\n",
       " 'here': 1,\n",
       " 'remarked': 1,\n",
       " 'till': 1,\n",
       " 'tomorrow': 1,\n",
       " 'moment': 1,\n",
       " 'plate': 1,\n",
       " 'skimming': 1,\n",
       " 'straight': 1,\n",
       " 'just': 1,\n",
       " 'grazed': 1,\n",
       " 'nose': 1,\n",
       " 'broke': 1,\n",
       " 'against': 1,\n",
       " 'trees': 1,\n",
       " 'behind': 1}"
      ]
     },
     "execution_count": 13,
     "metadata": {},
     "output_type": "execute_result"
    }
   ],
   "source": [
    "#count the frequency of words (use a dictionary)\n",
    "\n",
    "#initalizing dictionary\n",
    "d = {}\n",
    "\n",
    "#counting number of items eac word comes up in list of words (in dictionary)\n",
    "for word in word_list:\n",
    "        d[word] = d.get(word, 0) +1\n",
    "        \n",
    "d"
   ]
  },
  {
   "cell_type": "code",
   "execution_count": 16,
   "metadata": {},
   "outputs": [
    {
     "name": "stdout",
     "output_type": "stream",
     "text": [
      "[(34, 'the'), (19, 'and'), (16, 'a'), (15, 'to'), (9, 'of'), (9, 'in'), (8, 'was'), (8, 'she'), (7, 'footman'), (7, 'at'), (6, 'you'), (6, 'his'), (6, 'he'), (6, 'for'), (6, 'door'), (5, 'out'), (5, 'i'), (5, 'alice'), (4, 'this'), (4, 'on'), (4, 'it'), (4, 'had'), (4, 'as'), (3, 'wood'), (3, 'up'), (3, 'there'), (3, 'then'), (3, 'their'), (3, 'that'), (3, 'said'), (3, 'might'), (3, 'livery'), (3, 'large'), (3, 'into'), (3, 'if'), (3, 'him'), (3, 'from'), (3, 'by'), (3, 'because'), (3, 'all'), (2, 'with'), (2, 'when'), (2, 'what'), (2, 'went'), (2, 'very'), (2, 'two'), (2, 'tone'), (2, 'they'), (2, 'solemn'), (2, 'so'), (2, 'sky'), (2, 'same'), (2, 's'), (2, 'repeated'), (2, 'queen'), (2, 'play'), (2, 'pieces'), (2, 'over'), (2, 'other'), (2, 'or'), (2, 'opened'), (2, 'only'), (2, 'one'), (2, 'noise'), (2, 'no'), (2, 'next'), (2, 'nearly'), (2, 'looking'), (2, 'little'), (2, 'know'), (2, 'knocking'), (2, 'invitation'), (2, 'inside'), (2, 'how'), (2, 'house'), (2, 'her'), (2, 'head'), (2, 'great'), (2, 'get'), (2, 'fish-footman'), (2, 'face'), (2, 'eyes'), (2, 'duchess'), (2, 'croquet'), (2, 'could'), (2, 'came'), (2, 'but'), (2, 'both'), (2, 'be'), (2, 'are'), (2, 'an'), (2, 'am'), (1, 'your'), (1, 'would'), (1, 'words'), (1, 'wondering'), (1, 'without'), (1, 'within'), (1, 'were'), (1, 'we'), (1, 'way'), (1, 'use'), (1, 'us'), (1, 'under'), (1, 'uncivil'), (1, 'trees'), (1, 'top'), (1, 'tomorrow'), (1, 'together'), (1, 'timidly'), (1, 'time'), (1, 'till'), (1, 'thought'), (1, 't'), (1, 'suddenly'), (1, 'such'), (1, 'stupidly'), (1, 'straight'), (1, 'stood'), (1, 'staring'), (1, 'speaking'), (1, 'sort'), (1, 'some'), (1, 'sneezing'), (1, 'skimming'), (1, 'sitting'), (1, 'sit'), (1, 'side'), (1, 'shall'), (1, 'sense'), (1, 'secondly'), (1, 'saying'), (1, 'running'), (1, 'run'), (1, 'round'), (1, 'remarked'), (1, 'reasons'), (1, 're'), (1, 'rate'), (1, 'rapped'), (1, 'questions'), (1, 'producing'), (1, 'powdered'), (1, 'possibly'), (1, 'please'), (1, 'plate'), (1, 'perhaps'), (1, 'peeped'), (1, 'otherwise'), (1, 'order'), (1, 'now'), (1, 'noticed'), (1, 'nose'), (1, 'near'), (1, 'much'), (1, 'most'), (1, 'moment'), (1, 'minute'), (1, 'making'), (1, 'm'), (1, 'low'), (1, 'loudly'), (1, 'listen'), (1, 'like'), (1, 'letter'), (1, 'let'), (1, 'laughed'), (1, 'knuckles'), (1, 'knocked'), (1, 'knock'), (1, 'kettle'), (1, 'just'), (1, 'judging'), (1, 'instance'), (1, 'howling'), (1, 'himself'), (1, 'herself'), (1, 'here'), (1, 'help'), (1, 'hearing'), (1, 'hear'), (1, 'heads'), (1, 'have'), (1, 'handed'), (1, 'hair'), (1, 'ground'), (1, 'grazed'), (1, 'got'), (1, 'gone'), (1, 'going'), (1, 'frog-footman'), (1, 'frog'), (1, 'footmen'), (1, 'fish'), (1, 'first'), (1, 'felt'), (1, 'fear'), (1, 'extraordinary'), (1, 'every'), (1, 'entangled'), (1, 'do'), (1, 'dish'), (1, 'decidedly'), (1, 'curls'), (1, 'curled'), (1, 'curious'), (1, 'crept'), (1, 'crash'), (1, 'constant'), (1, 'considered'), (1, 'changing'), (1, 'certainly'), (1, 'can'), (1, 'called'), (1, 'broken'), (1, 'broke'), (1, 'bowed'), (1, 'between'), (1, 'behind'), (1, 'began'), (1, 'been'), (1, 'back'), (1, 'attending'), (1, 'arm'), (1, 'any'), (1, 'answer'), (1, 'another'), (1, 'aloud'), (1, 'against'), (1, 'about')]\n"
     ]
    }
   ],
   "source": [
    "#frequecncy count\n",
    "\n",
    "word_freq = []\n",
    "for key, value in d.items():\n",
    "    word_freq.append((value,key))\n",
    "    \n",
    "word_freq.sort(reverse=True)\n",
    "print(word_freq)"
   ]
  },
  {
   "cell_type": "markdown",
   "metadata": {},
   "source": [
    "## 4. Read in a file and write each line from the file to a new file Title-ized\n",
    "\n",
    "`This is the first line` ->  `This Is The First Line`\n",
    "\n",
    "Hint: There's a function to do this"
   ]
  },
  {
   "cell_type": "code",
   "execution_count": 42,
   "metadata": {},
   "outputs": [],
   "source": [
    "#make file\n",
    "file = open(\"testfile.txt\",\"w\")\n",
    "\n",
    "file.write(\"this is the first line\")\n",
    "\n",
    "file.close()\n"
   ]
  },
  {
   "cell_type": "code",
   "execution_count": 43,
   "metadata": {},
   "outputs": [],
   "source": [
    "#rewrite file in Title-ized\n",
    "file = open(\"testfile.txt\",\"w\")\n",
    "\n",
    "file.write(\"This Is The First Line\")\n",
    "\n",
    "file.close()\n"
   ]
  },
  {
   "cell_type": "markdown",
   "metadata": {},
   "source": [
    "# Numpy"
   ]
  },
  {
   "cell_type": "markdown",
   "metadata": {},
   "source": [
    "## 1. Given a list, find the average using a numpy function. "
   ]
  },
  {
   "cell_type": "code",
   "execution_count": 28,
   "metadata": {},
   "outputs": [
    {
     "data": {
      "text/plain": [
       "3.375"
      ]
     },
     "execution_count": 28,
     "metadata": {},
     "output_type": "execute_result"
    }
   ],
   "source": [
    "simple_list = [1,2,1,4,3,2,5,9]\n",
    "np.average(simple_list)"
   ]
  },
  {
   "cell_type": "markdown",
   "metadata": {},
   "source": [
    "## 2. Given two lists of Heights and Weights of individual, calculate the BMI of those individuals, without writing a `for-loop`"
   ]
  },
  {
   "cell_type": "code",
   "execution_count": 160,
   "metadata": {},
   "outputs": [
    {
     "name": "stdout",
     "output_type": "stream",
     "text": [
      "[0.02246901 0.0251125  0.02043951 0.03195763 0.02884129]\n"
     ]
    }
   ],
   "source": [
    "heights = [174, 173, 173, 175, 171]\n",
    "weights = [88, 83, 92, 74, 77]\n",
    "\n",
    "np_heights=np.array(heights)\n",
    "np_weights=np.array(weights)\n",
    "BMI=np_heights /np_weights **2\n",
    "print(BMI)"
   ]
  },
  {
   "cell_type": "markdown",
   "metadata": {},
   "source": [
    "## 3. Create an array of length 20 filled with random values (between 0 to 1) "
   ]
  },
  {
   "cell_type": "code",
   "execution_count": 9,
   "metadata": {},
   "outputs": [
    {
     "data": {
      "text/plain": [
       "array([0.50684296, 0.71319728, 0.301921  , 0.13824225, 0.55735568,\n",
       "       0.11046971, 0.11230067, 0.71216536, 0.66005042, 0.2677864 ,\n",
       "       0.06295185, 0.20113545, 0.4364142 , 0.01085732, 0.90237929,\n",
       "       0.26397335, 0.07652446, 0.05286261, 0.43982814, 0.98110206])"
      ]
     },
     "execution_count": 9,
     "metadata": {},
     "output_type": "execute_result"
    }
   ],
   "source": [
    "np.random.rand(20)"
   ]
  },
  {
   "cell_type": "markdown",
   "metadata": {},
   "source": [
    "## Bonus. 1. Create an array with a large (>1000) length filled with random numbers from different distributions (normal, uniform, etc.). 2. Then, plot a histogram of these values. "
   ]
  },
  {
   "cell_type": "code",
   "execution_count": 10,
   "metadata": {},
   "outputs": [
    {
     "name": "stdout",
     "output_type": "stream",
     "text": [
      "[2511 2502 2417 2570]\n",
      "[0.   0.25 0.5  0.75 1.  ]\n"
     ]
    },
    {
     "data": {
      "text/plain": [
       "Text(0.5,1,'Histogram of random numbers')"
      ]
     },
     "execution_count": 10,
     "metadata": {},
     "output_type": "execute_result"
    },
    {
     "data": {
      "image/png": "[encoded data removed]",
      "text/plain": [
       "<Figure size 432x288 with 1 Axes>"
      ]
     },
     "metadata": {},
     "output_type": "display_data"
    }
   ],
   "source": [
    "a = np.array(np.random.rand(10000))\n",
    "np.histogram(a,bins = [0,0.25,0.5,0.75,1])\n",
    "hist,bins = np.histogram(a,bins = [0,0.25,0.5,0.75,1]) \n",
    "print (hist)\n",
    "print (bins)\n",
    "plt.hist(a)\n",
    "plt.title(\"Histogram of random numbers\")"
   ]
  },
  {
   "cell_type": "markdown",
   "metadata": {},
   "source": [
    "# Pandas"
   ]
  },
  {
   "cell_type": "markdown",
   "metadata": {},
   "source": [
    "## 1. Read in a CSV () and display all the columns and their respective data types "
   ]
  },
  {
   "cell_type": "code",
   "execution_count": 165,
   "metadata": {},
   "outputs": [
    {
     "data": {
      "text/html": [
       "<div>\n",
       "<style scoped>\n",
       "    .dataframe tbody tr th:only-of-type {\n",
       "        vertical-align: middle;\n",
       "    }\n",
       "\n",
       "    .dataframe tbody tr th {\n",
       "        vertical-align: top;\n",
       "    }\n",
       "\n",
       "    .dataframe thead th {\n",
       "        text-align: right;\n",
       "    }\n",
       "</style>\n",
       "<table border=\"1\" class=\"dataframe\">\n",
       "  <thead>\n",
       "    <tr style=\"text-align: right;\">\n",
       "      <th></th>\n",
       "      <th>id</th>\n",
       "      <th>sex</th>\n",
       "      <th>weight</th>\n",
       "      <th>height</th>\n",
       "    </tr>\n",
       "  </thead>\n",
       "  <tbody>\n",
       "    <tr>\n",
       "      <th>0</th>\n",
       "      <td>1</td>\n",
       "      <td>M</td>\n",
       "      <td>190</td>\n",
       "      <td>77</td>\n",
       "    </tr>\n",
       "    <tr>\n",
       "      <th>1</th>\n",
       "      <td>2</td>\n",
       "      <td>F</td>\n",
       "      <td>120</td>\n",
       "      <td>70</td>\n",
       "    </tr>\n",
       "    <tr>\n",
       "      <th>2</th>\n",
       "      <td>3</td>\n",
       "      <td>F</td>\n",
       "      <td>110</td>\n",
       "      <td>68</td>\n",
       "    </tr>\n",
       "    <tr>\n",
       "      <th>3</th>\n",
       "      <td>4</td>\n",
       "      <td>M</td>\n",
       "      <td>150</td>\n",
       "      <td>72</td>\n",
       "    </tr>\n",
       "    <tr>\n",
       "      <th>4</th>\n",
       "      <td>5</td>\n",
       "      <td>O</td>\n",
       "      <td>120</td>\n",
       "      <td>66</td>\n",
       "    </tr>\n",
       "    <tr>\n",
       "      <th>5</th>\n",
       "      <td>6</td>\n",
       "      <td>M</td>\n",
       "      <td>120</td>\n",
       "      <td>60</td>\n",
       "    </tr>\n",
       "    <tr>\n",
       "      <th>6</th>\n",
       "      <td>7</td>\n",
       "      <td>F</td>\n",
       "      <td>140</td>\n",
       "      <td>70</td>\n",
       "    </tr>\n",
       "  </tbody>\n",
       "</table>\n",
       "</div>"
      ],
      "text/plain": [
       "   id sex  weight  height\n",
       "0   1   M     190      77\n",
       "1   2   F     120      70\n",
       "2   3   F     110      68\n",
       "3   4   M     150      72\n",
       "4   5   O     120      66\n",
       "5   6   M     120      60\n",
       "6   7   F     140      70"
      ]
     },
     "execution_count": 165,
     "metadata": {},
     "output_type": "execute_result"
    }
   ],
   "source": [
    "#read CSV and display columns\n",
    "data = pd.read_csv(\"hw_data.csv\")\n",
    "data"
   ]
  },
  {
   "cell_type": "code",
   "execution_count": 140,
   "metadata": {},
   "outputs": [
    {
     "data": {
      "text/plain": [
       "id         int64\n",
       "sex       object\n",
       "weight     int64\n",
       "height     int64\n",
       "dtype: object"
      ]
     },
     "execution_count": 140,
     "metadata": {},
     "output_type": "execute_result"
    }
   ],
   "source": [
    "#display data types\n",
    "data.dtypes"
   ]
  },
  {
   "cell_type": "markdown",
   "metadata": {},
   "source": [
    "## 2. Find the average weight "
   ]
  },
  {
   "cell_type": "code",
   "execution_count": 141,
   "metadata": {},
   "outputs": [
    {
     "data": {
      "text/plain": [
       "135.71428571428572"
      ]
     },
     "execution_count": 141,
     "metadata": {},
     "output_type": "execute_result"
    }
   ],
   "source": [
    "#find average weight\n",
    "data['weight'].mean()"
   ]
  },
  {
   "cell_type": "markdown",
   "metadata": {},
   "source": [
    "## 3. Find the Value Counts on column `sex` "
   ]
  },
  {
   "cell_type": "code",
   "execution_count": 142,
   "metadata": {},
   "outputs": [
    {
     "data": {
      "text/plain": [
       "M    3\n",
       "F    3\n",
       "O    1\n",
       "Name: sex, dtype: int64"
      ]
     },
     "execution_count": 142,
     "metadata": {},
     "output_type": "execute_result"
    }
   ],
   "source": [
    "#find value counts on column sex\n",
    "data.sex.value_counts()"
   ]
  },
  {
   "cell_type": "markdown",
   "metadata": {},
   "source": [
    "## 4. Plot Height vs. Weight "
   ]
  },
  {
   "cell_type": "code",
   "execution_count": 157,
   "metadata": {
    "scrolled": true
   },
   "outputs": [
    {
     "data": {
      "text/plain": [
       "Text(0,0.5,'Height')"
      ]
     },
     "execution_count": 157,
     "metadata": {},
     "output_type": "execute_result"
    },
    {
     "data": {
      "image/png": "[encoded data removed]",
      "text/plain": [
       "<Figure size 432x288 with 1 Axes>"
      ]
     },
     "metadata": {},
     "output_type": "display_data"
    }
   ],
   "source": [
    "x = data['weight']\n",
    "y = data['height']\n",
    "\n",
    "plt.scatter(x,y);\n",
    "plt.title('Height Vs. Weight')\n",
    "plt.xlabel('Weight')\n",
    "plt.ylabel('Height')\n"
   ]
  },
  {
   "cell_type": "markdown",
   "metadata": {},
   "source": [
    "## 5. Calculate BMI and save as a new column"
   ]
  },
  {
   "cell_type": "code",
   "execution_count": 188,
   "metadata": {},
   "outputs": [
    {
     "data": {
      "text/html": [
       "<div>\n",
       "<style scoped>\n",
       "    .dataframe tbody tr th:only-of-type {\n",
       "        vertical-align: middle;\n",
       "    }\n",
       "\n",
       "    .dataframe tbody tr th {\n",
       "        vertical-align: top;\n",
       "    }\n",
       "\n",
       "    .dataframe thead th {\n",
       "        text-align: right;\n",
       "    }\n",
       "</style>\n",
       "<table border=\"1\" class=\"dataframe\">\n",
       "  <thead>\n",
       "    <tr style=\"text-align: right;\">\n",
       "      <th></th>\n",
       "      <th>id</th>\n",
       "      <th>sex</th>\n",
       "      <th>weight</th>\n",
       "      <th>height</th>\n",
       "      <th>BMI</th>\n",
       "    </tr>\n",
       "  </thead>\n",
       "  <tbody>\n",
       "    <tr>\n",
       "      <th>0</th>\n",
       "      <td>1</td>\n",
       "      <td>M</td>\n",
       "      <td>190</td>\n",
       "      <td>77</td>\n",
       "      <td>0.032046</td>\n",
       "    </tr>\n",
       "    <tr>\n",
       "      <th>1</th>\n",
       "      <td>2</td>\n",
       "      <td>F</td>\n",
       "      <td>120</td>\n",
       "      <td>70</td>\n",
       "      <td>0.024490</td>\n",
       "    </tr>\n",
       "    <tr>\n",
       "      <th>2</th>\n",
       "      <td>3</td>\n",
       "      <td>F</td>\n",
       "      <td>110</td>\n",
       "      <td>68</td>\n",
       "      <td>0.023789</td>\n",
       "    </tr>\n",
       "    <tr>\n",
       "      <th>3</th>\n",
       "      <td>4</td>\n",
       "      <td>M</td>\n",
       "      <td>150</td>\n",
       "      <td>72</td>\n",
       "      <td>0.028935</td>\n",
       "    </tr>\n",
       "    <tr>\n",
       "      <th>4</th>\n",
       "      <td>5</td>\n",
       "      <td>O</td>\n",
       "      <td>120</td>\n",
       "      <td>66</td>\n",
       "      <td>0.027548</td>\n",
       "    </tr>\n",
       "    <tr>\n",
       "      <th>5</th>\n",
       "      <td>6</td>\n",
       "      <td>M</td>\n",
       "      <td>120</td>\n",
       "      <td>60</td>\n",
       "      <td>0.033333</td>\n",
       "    </tr>\n",
       "    <tr>\n",
       "      <th>6</th>\n",
       "      <td>7</td>\n",
       "      <td>F</td>\n",
       "      <td>140</td>\n",
       "      <td>70</td>\n",
       "      <td>0.028571</td>\n",
       "    </tr>\n",
       "  </tbody>\n",
       "</table>\n",
       "</div>"
      ],
      "text/plain": [
       "   id sex  weight  height       BMI\n",
       "0   1   M     190      77  0.032046\n",
       "1   2   F     120      70  0.024490\n",
       "2   3   F     110      68  0.023789\n",
       "3   4   M     150      72  0.028935\n",
       "4   5   O     120      66  0.027548\n",
       "5   6   M     120      60  0.033333\n",
       "6   7   F     140      70  0.028571"
      ]
     },
     "execution_count": 188,
     "metadata": {},
     "output_type": "execute_result"
    }
   ],
   "source": [
    "#Calculate BMI\n",
    "data\n",
    "data['BMI'] = data['weight'].divide(data['height'] ** 2)\n",
    "data"
   ]
  },
  {
   "cell_type": "markdown",
   "metadata": {},
   "source": [
    "## 6. Save sheet as a new CSV file `hw_dataB.csv`"
   ]
  },
  {
   "cell_type": "code",
   "execution_count": 192,
   "metadata": {},
   "outputs": [],
   "source": [
    "data.to_csv('hw_dataB.csv')"
   ]
  },
  {
   "cell_type": "markdown",
   "metadata": {},
   "source": [
    "## Run the following"
   ]
  },
  {
   "cell_type": "code",
   "execution_count": 193,
   "metadata": {},
   "outputs": [
    {
     "name": "stdout",
     "output_type": "stream",
     "text": [
      ",id,sex,weight,height,BMI\n",
      "0,1,M,190,77,0.03204587620172036\n",
      "1,2,F,120,70,0.024489795918367346\n",
      "2,3,F,110,68,0.02378892733564014\n",
      "3,4,M,150,72,0.028935185185185185\n",
      "4,5,O,120,66,0.027548209366391185\n",
      "5,6,M,120,60,0.03333333333333333\n",
      "6,7,F,140,70,0.02857142857142857\n"
     ]
    }
   ],
   "source": [
    "!cat hw_dataB.csv"
   ]
  }
 ],
 "metadata": {
  "kernelspec": {
   "display_name": "Python 3",
   "language": "python",
   "name": "python3"
  },
  "language_info": {
   "codemirror_mode": {
    "name": "ipython",
    "version": 3
   },
   "file_extension": ".py",
   "mimetype": "text/x-python",
   "name": "python",
   "nbconvert_exporter": "python",
   "pygments_lexer": "ipython3",
   "version": "3.6.5"
  }
 },
 "nbformat": 4,
 "nbformat_minor": 1
}
