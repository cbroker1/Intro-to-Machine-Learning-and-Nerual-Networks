{
 "cells": [
  {
   "cell_type": "markdown",
   "metadata": {},
   "source": [
    "# Assignment 12 - Neural Networks image recognition\n",
    "Use both MLNN and the ConvNet to solve the following problem.\n",
    "\n",
    "1. Add random noise (i.e. `np.random.normal`) to the images in training and testing. Make sure each image gets a different noise feature added to it. Inspect by printing out an image. \n",
    "2. Compare the loss/accuracy (train, val) after N epochs for both MLNN and ConvNet with and without noise. \n",
    "3. Vary the amount of noise (multiply `np.random.normal` by a factor) and keep track of the accuracy and loss (for training and validation) and plot these results."
   ]
  },
  {
   "cell_type": "markdown",
   "metadata": {},
   "source": [
    "# Neural Networks - Image Recognition "
   ]
  },
  {
   "cell_type": "code",
   "execution_count": 1,
   "metadata": {},
   "outputs": [
    {
     "name": "stderr",
     "output_type": "stream",
     "text": [
      "Using TensorFlow backend.\n"
     ]
    }
   ],
   "source": [
    "import keras\n",
    "from keras.datasets import mnist\n",
    "from keras.models import Sequential\n",
    "from keras.optimizers import RMSprop\n",
    "from keras.layers import Dense, Dropout, Flatten\n",
    "from keras.layers import Conv2D, MaxPooling2D\n",
    "from keras import backend\n",
    "import matplotlib.pyplot as plt\n",
    "import numpy as np"
   ]
  },
  {
   "cell_type": "markdown",
   "metadata": {},
   "source": [
    "## Multi Layer Neural Network\n",
    "Trains a simple deep NN on the MNIST dataset.\n",
    "Gets to 98.40% test accuracy after 20 epochs\n",
    "(there is *a lot* of margin for parameter tuning)."
   ]
  },
  {
   "cell_type": "code",
   "execution_count": 2,
   "metadata": {},
   "outputs": [
    {
     "name": "stdout",
     "output_type": "stream",
     "text": [
      "60000 train samples\n",
      "10000 test samples\n"
     ]
    }
   ],
   "source": [
    "# the data, shuffled and split between train and test sets\n",
    "(x_train, y_train), (x_test, y_test) = mnist.load_data()\n",
    "\n",
    "x_train = x_train.reshape(60000, 784)\n",
    "x_test = x_test.reshape(10000, 784)\n",
    "x_train = x_train.astype('float32')\n",
    "x_test = x_test.astype('float32')\n",
    "x_train /= 255\n",
    "x_test /= 255\n",
    "print(x_train.shape[0], 'train samples')\n",
    "print(x_test.shape[0], 'test samples')"
   ]
  },
  {
   "cell_type": "code",
   "execution_count": 3,
   "metadata": {},
   "outputs": [],
   "source": [
    "#define noise\n",
    "huge_gaussian_noise_train = np.random.normal(0,1, x_train.shape)\n",
    "huge_gaussian_noise_test = np.random.normal(0,1, x_test.shape)"
   ]
  },
  {
   "cell_type": "code",
   "execution_count": 4,
   "metadata": {},
   "outputs": [],
   "source": [
    "#generate new x_train and x_test with noise\n",
    "NOISY = 0.15 #constant\n",
    "x_train_noise = huge_gaussian_noise_train * NOISY + x_train \n",
    "x_train_noise_2 = huge_gaussian_noise_train * (NOISY*2) + x_train"
   ]
  },
  {
   "cell_type": "code",
   "execution_count": 5,
   "metadata": {},
   "outputs": [],
   "source": [
    "#generate new x_train and x_test with facator 2 noise\n",
    "NOISY = 0.3 #constant\n",
    "x_test_noise = huge_gaussian_noise_test * NOISY + x_test \n",
    "x_test_noise_2 = huge_gaussian_noise_test * (NOISY*2) + x_test"
   ]
  },
  {
   "cell_type": "code",
   "execution_count": 6,
   "metadata": {
    "scrolled": true
   },
   "outputs": [
    {
     "name": "stdout",
     "output_type": "stream",
     "text": [
      "_________________________________________________________________\n",
      "Layer (type)                 Output Shape              Param #   \n",
      "=================================================================\n",
      "dense_1 (Dense)              (None, 512)               401920    \n",
      "_________________________________________________________________\n",
      "dropout_1 (Dropout)          (None, 512)               0         \n",
      "_________________________________________________________________\n",
      "dense_2 (Dense)              (None, 512)               262656    \n",
      "_________________________________________________________________\n",
      "dropout_2 (Dropout)          (None, 512)               0         \n",
      "_________________________________________________________________\n",
      "dense_3 (Dense)              (None, 10)                5130      \n",
      "=================================================================\n",
      "Total params: 669,706\n",
      "Trainable params: 669,706\n",
      "Non-trainable params: 0\n",
      "_________________________________________________________________\n",
      "Train on 60000 samples, validate on 10000 samples\n",
      "Epoch 1/20\n",
      "60000/60000 [==============================] - 17s 277us/step - loss: 0.2444 - acc: 0.9250 - val_loss: 0.1161 - val_acc: 0.9641\n",
      "Epoch 2/20\n",
      "60000/60000 [==============================] - 17s 277us/step - loss: 0.1030 - acc: 0.9689 - val_loss: 0.0837 - val_acc: 0.9755\n",
      "Epoch 3/20\n",
      "60000/60000 [==============================] - 17s 291us/step - loss: 0.0754 - acc: 0.9774 - val_loss: 0.0709 - val_acc: 0.9786\n",
      "Epoch 4/20\n",
      "60000/60000 [==============================] - 18s 293us/step - loss: 0.0597 - acc: 0.9813 - val_loss: 0.0774 - val_acc: 0.9783\n",
      "Epoch 5/20\n",
      "60000/60000 [==============================] - 16s 260us/step - loss: 0.0497 - acc: 0.9851 - val_loss: 0.0738 - val_acc: 0.9789 7s - loss: 0.0481 - acc: 0.985 \n",
      "Epoch 6/20\n",
      "60000/60000 [==============================] - 16s 264us/step - loss: 0.0429 - acc: 0.9870 - val_loss: 0.0658 - val_acc: 0.9849\n",
      "Epoch 7/20\n",
      "60000/60000 [==============================] - 16s 260us/step - loss: 0.0387 - acc: 0.9881 - val_loss: 0.0913 - val_acc: 0.9774\n",
      "Epoch 8/20\n",
      "60000/60000 [==============================] - 15s 255us/step - loss: 0.0340 - acc: 0.9902 - val_loss: 0.0902 - val_acc: 0.9809\n",
      "Epoch 9/20\n",
      "60000/60000 [==============================] - 16s 260us/step - loss: 0.0328 - acc: 0.9906 - val_loss: 0.0827 - val_acc: 0.9821\n",
      "Epoch 10/20\n",
      "60000/60000 [==============================] - 16s 262us/step - loss: 0.0304 - acc: 0.9913 - val_loss: 0.0854 - val_acc: 0.9828\n",
      "Epoch 11/20\n",
      "60000/60000 [==============================] - 16s 270us/step - loss: 0.0265 - acc: 0.9925 - val_loss: 0.0790 - val_acc: 0.9839\n",
      "Epoch 12/20\n",
      "60000/60000 [==============================] - 16s 263us/step - loss: 0.0257 - acc: 0.9929 - val_loss: 0.0946 - val_acc: 0.9822\n",
      "Epoch 13/20\n",
      "60000/60000 [==============================] - 17s 291us/step - loss: 0.0259 - acc: 0.9932 - val_loss: 0.0975 - val_acc: 0.9816\n",
      "Epoch 14/20\n",
      "60000/60000 [==============================] - 18s 298us/step - loss: 0.0232 - acc: 0.9936 - val_loss: 0.0967 - val_acc: 0.9836\n",
      "Epoch 15/20\n",
      "60000/60000 [==============================] - 18s 303us/step - loss: 0.0225 - acc: 0.9940 - val_loss: 0.1066 - val_acc: 0.9821\n",
      "Epoch 16/20\n",
      "60000/60000 [==============================] - 17s 278us/step - loss: 0.0206 - acc: 0.9942 - val_loss: 0.0968 - val_acc: 0.983905 - acc: 0.9\n",
      "Epoch 17/20\n",
      "60000/60000 [==============================] - 15s 249us/step - loss: 0.0213 - acc: 0.9945 - val_loss: 0.1045 - val_acc: 0.9832TA: 0s - loss: 0.0212 - acc:  - ETA: 0s - loss: 0.0211 - acc\n",
      "Epoch 18/20\n",
      "60000/60000 [==============================] - 17s 279us/step - loss: 0.0201 - acc: 0.9945 - val_loss: 0.1006 - val_acc: 0.9840\n",
      "Epoch 19/20\n",
      "60000/60000 [==============================] - 18s 306us/step - loss: 0.0192 - acc: 0.9950 - val_loss: 0.1155 - val_acc: 0.9816\n",
      "Epoch 20/20\n",
      "60000/60000 [==============================] - 18s 296us/step - loss: 0.0198 - acc: 0.9950 - val_loss: 0.0997 - val_acc: 0.9840\n",
      "Test loss: 0.09972424096881491\n",
      "Test accuracy: 0.984\n"
     ]
    }
   ],
   "source": [
    "#clean model\n",
    "\n",
    "batch_size = 128\n",
    "num_classes = 10\n",
    "epochs = 20\n",
    "\n",
    "# convert class vectors to binary class matrices\n",
    "y_train = keras.utils.to_categorical(y_train, num_classes)\n",
    "y_test = keras.utils.to_categorical(y_test, num_classes)\n",
    "\n",
    "model = Sequential()\n",
    "model.add(Dense(512, activation='relu', input_shape=(784,)))\n",
    "model.add(Dropout(0.2))\n",
    "model.add(Dense(512, activation='relu'))\n",
    "model.add(Dropout(0.2))\n",
    "model.add(Dense(10, activation='softmax'))\n",
    "\n",
    "model.summary()\n",
    "\n",
    "model.compile(loss='categorical_crossentropy',\n",
    "              optimizer=RMSprop(),\n",
    "              metrics=['accuracy'])\n",
    "\n",
    "history = model.fit(x_train, y_train,\n",
    "                    batch_size=batch_size,\n",
    "                    epochs=epochs,\n",
    "                    verbose=1,\n",
    "                    validation_data=(x_test, y_test))\n",
    "\n",
    "score = model.evaluate(x_test, y_test, verbose=0)\n",
    "print('Test loss:', score[0])\n",
    "print('Test accuracy:', score[1])"
   ]
  },
  {
   "cell_type": "code",
   "execution_count": 7,
   "metadata": {
    "scrolled": true
   },
   "outputs": [
    {
     "name": "stdout",
     "output_type": "stream",
     "text": [
      "_________________________________________________________________\n",
      "Layer (type)                 Output Shape              Param #   \n",
      "=================================================================\n",
      "dense_4 (Dense)              (None, 512)               401920    \n",
      "_________________________________________________________________\n",
      "dropout_3 (Dropout)          (None, 512)               0         \n",
      "_________________________________________________________________\n",
      "dense_5 (Dense)              (None, 512)               262656    \n",
      "_________________________________________________________________\n",
      "dropout_4 (Dropout)          (None, 512)               0         \n",
      "_________________________________________________________________\n",
      "dense_6 (Dense)              (None, 10)                5130      \n",
      "=================================================================\n",
      "Total params: 669,706\n",
      "Trainable params: 669,706\n",
      "Non-trainable params: 0\n",
      "_________________________________________________________________\n",
      "Train on 60000 samples, validate on 10000 samples\n",
      "Epoch 1/20\n",
      "60000/60000 [==============================] - 15s 258us/step - loss: 0.2854 - acc: 0.9119 - val_loss: 0.1869 - val_acc: 0.9414\n",
      "Epoch 2/20\n",
      "60000/60000 [==============================] - 16s 264us/step - loss: 0.1050 - acc: 0.9674 - val_loss: 0.1907 - val_acc: 0.9446\n",
      "Epoch 3/20\n",
      "60000/60000 [==============================] - 16s 268us/step - loss: 0.0611 - acc: 0.9811 - val_loss: 0.2387 - val_acc: 0.9404\n",
      "Epoch 4/20\n",
      "60000/60000 [==============================] - 15s 246us/step - loss: 0.0403 - acc: 0.9874 - val_loss: 0.2647 - val_acc: 0.9431\n",
      "Epoch 5/20\n",
      "60000/60000 [==============================] - 15s 256us/step - loss: 0.0266 - acc: 0.9912 - val_loss: 0.3256 - val_acc: 0.9412\n",
      "Epoch 6/20\n",
      "60000/60000 [==============================] - 16s 271us/step - loss: 0.0234 - acc: 0.9925 - val_loss: 0.3464 - val_acc: 0.9388\n",
      "Epoch 7/20\n",
      "60000/60000 [==============================] - 16s 263us/step - loss: 0.0200 - acc: 0.9939 - val_loss: 0.3790 - val_acc: 0.9373\n",
      "Epoch 8/20\n",
      "60000/60000 [==============================] - 16s 270us/step - loss: 0.0168 - acc: 0.9945 - val_loss: 0.3886 - val_acc: 0.9401\n",
      "Epoch 9/20\n",
      "60000/60000 [==============================] - 15s 243us/step - loss: 0.0142 - acc: 0.9956 - val_loss: 0.4597 - val_acc: 0.9368\n",
      "Epoch 10/20\n",
      "60000/60000 [==============================] - 14s 239us/step - loss: 0.0139 - acc: 0.9957 - val_loss: 0.4343 - val_acc: 0.9402\n",
      "Epoch 11/20\n",
      "60000/60000 [==============================] - 14s 241us/step - loss: 0.0136 - acc: 0.9961 - val_loss: 0.4438 - val_acc: 0.9385\n",
      "Epoch 12/20\n",
      "60000/60000 [==============================] - 16s 269us/step - loss: 0.0116 - acc: 0.9965 - val_loss: 0.4825 - val_acc: 0.9392\n",
      "Epoch 13/20\n",
      "60000/60000 [==============================] - 14s 242us/step - loss: 0.0110 - acc: 0.9969 - val_loss: 0.5340 - val_acc: 0.9340\n",
      "Epoch 14/20\n",
      "60000/60000 [==============================] - 15s 247us/step - loss: 0.0101 - acc: 0.9971 - val_loss: 0.5031 - val_acc: 0.9402\n",
      "Epoch 15/20\n",
      "60000/60000 [==============================] - 15s 252us/step - loss: 0.0122 - acc: 0.9965 - val_loss: 0.5186 - val_acc: 0.9379\n",
      "Epoch 16/20\n",
      "60000/60000 [==============================] - 14s 239us/step - loss: 0.0092 - acc: 0.9973 - val_loss: 0.5439 - val_acc: 0.9388\n",
      "Epoch 17/20\n",
      "60000/60000 [==============================] - 17s 283us/step - loss: 0.0098 - acc: 0.9973 - val_loss: 0.5590 - val_acc: 0.9368\n",
      "Epoch 18/20\n",
      "60000/60000 [==============================] - 15s 245us/step - loss: 0.0088 - acc: 0.9977 - val_loss: 0.5893 - val_acc: 0.9360\n",
      "Epoch 19/20\n",
      "60000/60000 [==============================] - 14s 233us/step - loss: 0.0094 - acc: 0.9973 - val_loss: 0.5541 - val_acc: 0.9392\n",
      "Epoch 20/20\n",
      "60000/60000 [==============================] - 15s 250us/step - loss: 0.0083 - acc: 0.9980 - val_loss: 0.5432 - val_acc: 0.9418\n",
      "Test loss: 0.5431661400104764\n",
      "Test accuracy: 0.9418\n"
     ]
    }
   ],
   "source": [
    "#noise model\n",
    "\n",
    "batch_size = 128\n",
    "num_classes = 10\n",
    "epochs = 20\n",
    "\n",
    "# convert class vectors to binary class matrices\n",
    "#y_train = keras.utils.to_categorical(y_train, num_classes)\n",
    "#y_test = keras.utils.to_categorical(y_test, num_classes)\n",
    "\n",
    "model_noise = Sequential()\n",
    "model_noise.add(Dense(512, activation='relu', input_shape=(784,)))\n",
    "model_noise.add(Dropout(0.2))\n",
    "model_noise.add(Dense(512, activation='relu'))\n",
    "model_noise.add(Dropout(0.2))\n",
    "model_noise.add(Dense(10, activation='softmax'))\n",
    "\n",
    "model_noise.summary()\n",
    "\n",
    "model_noise.compile(loss='categorical_crossentropy',\n",
    "              optimizer=RMSprop(),\n",
    "              metrics=['accuracy'])\n",
    "\n",
    "history_noise = model_noise.fit(x_train_noise, y_train,\n",
    "                    batch_size=batch_size,\n",
    "                    epochs=epochs,\n",
    "                    verbose=1,\n",
    "                    validation_data=(x_test_noise, y_test))\n",
    "\n",
    "score_noise = model_noise.evaluate(x_test_noise, y_test, verbose=0)\n",
    "print('Test loss:', score_noise[0])\n",
    "print('Test accuracy:', score_noise[1])"
   ]
  },
  {
   "cell_type": "code",
   "execution_count": 8,
   "metadata": {
    "scrolled": true
   },
   "outputs": [
    {
     "name": "stdout",
     "output_type": "stream",
     "text": [
      "_________________________________________________________________\n",
      "Layer (type)                 Output Shape              Param #   \n",
      "=================================================================\n",
      "dense_7 (Dense)              (None, 512)               401920    \n",
      "_________________________________________________________________\n",
      "dropout_5 (Dropout)          (None, 512)               0         \n",
      "_________________________________________________________________\n",
      "dense_8 (Dense)              (None, 512)               262656    \n",
      "_________________________________________________________________\n",
      "dropout_6 (Dropout)          (None, 512)               0         \n",
      "_________________________________________________________________\n",
      "dense_9 (Dense)              (None, 10)                5130      \n",
      "=================================================================\n",
      "Total params: 669,706\n",
      "Trainable params: 669,706\n",
      "Non-trainable params: 0\n",
      "_________________________________________________________________\n",
      "Train on 60000 samples, validate on 10000 samples\n",
      "Epoch 1/20\n",
      "60000/60000 [==============================] - 20s 328us/step - loss: 0.3825 - acc: 0.8787 - val_loss: 0.4854 - val_acc: 0.8535 - loss: 0.3837 - acc: 0.87\n",
      "Epoch 2/20\n",
      "60000/60000 [==============================] - 17s 285us/step - loss: 0.1420 - acc: 0.9565 - val_loss: 0.5758 - val_acc: 0.8558\n",
      "Epoch 3/20\n",
      "60000/60000 [==============================] - 11s 176us/step - loss: 0.0764 - acc: 0.9754 - val_loss: 0.7042 - val_acc: 0.8586\n",
      "Epoch 4/20\n",
      "60000/60000 [==============================] - 10s 164us/step - loss: 0.0461 - acc: 0.9848 - val_loss: 0.9257 - val_acc: 0.8526\n",
      "Epoch 5/20\n",
      "60000/60000 [==============================] - 11s 180us/step - loss: 0.0306 - acc: 0.9898 - val_loss: 1.0530 - val_acc: 0.8480\n",
      "Epoch 6/20\n",
      "60000/60000 [==============================] - 9s 147us/step - loss: 0.0267 - acc: 0.9912 - val_loss: 1.1965 - val_acc: 0.8443\n",
      "Epoch 7/20\n",
      "60000/60000 [==============================] - 8s 141us/step - loss: 0.0208 - acc: 0.9931 - val_loss: 1.1653 - val_acc: 0.8579\n",
      "Epoch 8/20\n",
      "60000/60000 [==============================] - 9s 148us/step - loss: 0.0203 - acc: 0.9934 - val_loss: 1.2804 - val_acc: 0.8479\n",
      "Epoch 9/20\n",
      "60000/60000 [==============================] - 10s 165us/step - loss: 0.0186 - acc: 0.9943 - val_loss: 1.3241 - val_acc: 0.8486\n",
      "Epoch 10/20\n",
      "60000/60000 [==============================] - 10s 161us/step - loss: 0.0176 - acc: 0.9945 - val_loss: 1.2785 - val_acc: 0.8576\n",
      "Epoch 11/20\n",
      "60000/60000 [==============================] - 9s 144us/step - loss: 0.0146 - acc: 0.9955 - val_loss: 1.3798 - val_acc: 0.8545\n",
      "Epoch 12/20\n",
      "60000/60000 [==============================] - 8s 141us/step - loss: 0.0164 - acc: 0.9956 - val_loss: 1.4514 - val_acc: 0.8503\n",
      "Epoch 13/20\n",
      "60000/60000 [==============================] - 9s 145us/step - loss: 0.0140 - acc: 0.9957 - val_loss: 1.5077 - val_acc: 0.8484\n",
      "Epoch 14/20\n",
      "60000/60000 [==============================] - 11s 190us/step - loss: 0.0131 - acc: 0.9962 - val_loss: 1.4721 - val_acc: 0.8554\n",
      "Epoch 15/20\n",
      "60000/60000 [==============================] - 10s 168us/step - loss: 0.0119 - acc: 0.9966 - val_loss: 1.5211 - val_acc: 0.8509\n",
      "Epoch 16/20\n",
      "60000/60000 [==============================] - 11s 178us/step - loss: 0.0122 - acc: 0.9964 - val_loss: 1.4789 - val_acc: 0.8555\n",
      "Epoch 17/20\n",
      "60000/60000 [==============================] - 9s 146us/step - loss: 0.0102 - acc: 0.9972 - val_loss: 1.5908 - val_acc: 0.8449\n",
      "Epoch 18/20\n",
      "60000/60000 [==============================] - 10s 165us/step - loss: 0.0110 - acc: 0.9971 - val_loss: 1.4957 - val_acc: 0.8586\n",
      "Epoch 19/20\n",
      "60000/60000 [==============================] - 10s 163us/step - loss: 0.0108 - acc: 0.9974 - val_loss: 1.5469 - val_acc: 0.8570\n",
      "Epoch 20/20\n",
      "60000/60000 [==============================] - 9s 158us/step - loss: 0.0110 - acc: 0.9970 - val_loss: 1.6350 - val_acc: 0.8481\n",
      "Test loss: 1.635016804915093\n",
      "Test accuracy: 0.8481\n"
     ]
    }
   ],
   "source": [
    "#noise factor 2 model\n",
    "\n",
    "batch_size = 128\n",
    "num_classes = 10\n",
    "epochs = 20\n",
    "\n",
    "# convert class vectors to binary class matrices\n",
    "#y_train = keras.utils.to_categorical(y_train, num_classes)\n",
    "#y_test = keras.utils.to_categorical(y_test, num_classes)\n",
    "\n",
    "model_noise_2 = Sequential()\n",
    "model_noise_2.add(Dense(512, activation='relu', input_shape=(784,)))\n",
    "model_noise_2.add(Dropout(0.2))\n",
    "model_noise_2.add(Dense(512, activation='relu'))\n",
    "model_noise_2.add(Dropout(0.2))\n",
    "model_noise_2.add(Dense(10, activation='softmax'))\n",
    "\n",
    "model_noise_2.summary()\n",
    "\n",
    "model_noise_2.compile(loss='categorical_crossentropy',\n",
    "              optimizer=RMSprop(),\n",
    "              metrics=['accuracy'])\n",
    "\n",
    "history_noise_2 = model_noise_2.fit(x_train_noise_2, y_train,\n",
    "                    batch_size=batch_size,\n",
    "                    epochs=epochs,\n",
    "                    verbose=1,\n",
    "                    validation_data=(x_test_noise_2, y_test))\n",
    "\n",
    "score_noise_2 = model_noise_2.evaluate(x_test_noise_2, y_test, verbose=0)\n",
    "print('Test loss:', score_noise_2[0])\n",
    "print('Test accuracy:', score_noise_2[1])"
   ]
  },
  {
   "cell_type": "markdown",
   "metadata": {},
   "source": [
    "# MLNN Figures:"
   ]
  },
  {
   "cell_type": "code",
   "execution_count": 9,
   "metadata": {},
   "outputs": [
    {
     "name": "stdout",
     "output_type": "stream",
     "text": [
      "Test loss: 0.09972424096881491\n",
      "Test accuracy: 0.984\n"
     ]
    },
    {
     "data": {
      "image/png": "[encoded data removed]",
      "text/plain": [
       "<Figure size 432x288 with 1 Axes>"
      ]
     },
     "metadata": {
      "needs_background": "light"
     },
     "output_type": "display_data"
    }
   ],
   "source": [
    "#clean\n",
    "x_train = x_train.reshape(60000,28,28)#reshaped data for image call\n",
    "plt.imshow(x_train[0])\n",
    "\n",
    "print('Test loss:', score[0])\n",
    "print('Test accuracy:', score[1])"
   ]
  },
  {
   "cell_type": "code",
   "execution_count": 10,
   "metadata": {},
   "outputs": [
    {
     "name": "stdout",
     "output_type": "stream",
     "text": [
      "Test loss: 0.5431661400104764\n",
      "Test accuracy: 0.9418\n"
     ]
    },
    {
     "data": {
      "image/png": "[encoded data removed]",
      "text/plain": [
       "<Figure size 432x288 with 1 Axes>"
      ]
     },
     "metadata": {
      "needs_background": "light"
     },
     "output_type": "display_data"
    }
   ],
   "source": [
    "#noise\n",
    "x_train_noise = x_train_noise.reshape(60000,28,28)#reshaped data for image call\n",
    "plt.imshow(x_train_noise[0])\n",
    "\n",
    "print('Test loss:', score_noise[0])\n",
    "print('Test accuracy:', score_noise[1])"
   ]
  },
  {
   "cell_type": "code",
   "execution_count": 11,
   "metadata": {},
   "outputs": [
    {
     "name": "stdout",
     "output_type": "stream",
     "text": [
      "Test loss: 1.635016804915093\n",
      "Test accuracy: 0.8481\n"
     ]
    },
    {
     "data": {
      "image/png": "[encoded data removed]",
      "text/plain": [
       "<Figure size 432x288 with 1 Axes>"
      ]
     },
     "metadata": {
      "needs_background": "light"
     },
     "output_type": "display_data"
    }
   ],
   "source": [
    "#noise factor 2\n",
    "x_train_noise_2 = x_train_noise_2.reshape(60000,28,28)#reshaped data for image call\n",
    "plt.imshow(x_train_noise_2[0])\n",
    "\n",
    "print('Test loss:', score_noise_2[0])\n",
    "print('Test accuracy:', score_noise_2[1])"
   ]
  },
  {
   "cell_type": "code",
   "execution_count": 12,
   "metadata": {},
   "outputs": [
    {
     "data": {
      "text/plain": [
       "([<matplotlib.axis.XTick at 0x251dacfb0f0>,\n",
       "  <matplotlib.axis.XTick at 0x251dac559e8>,\n",
       "  <matplotlib.axis.XTick at 0x251dac556d8>],\n",
       " <a list of 3 Text xticklabel objects>)"
      ]
     },
     "execution_count": 12,
     "metadata": {},
     "output_type": "execute_result"
    },
    {
     "data": {
      "image/png": "[encoded data removed]",
      "text/plain": [
       "<Figure size 432x288 with 1 Axes>"
      ]
     },
     "metadata": {
      "needs_background": "light"
     },
     "output_type": "display_data"
    }
   ],
   "source": [
    "#figure comparing noise impact on loss and accuracy scores\n",
    "x = [1,2,3]\n",
    "y_test_loss_scores = [score[0], score_noise[0], score_noise_2[0]]\n",
    "y_test_accuracy_scores = [score[1], score_noise[1], score_noise_2[1]]\n",
    "\n",
    "plt.scatter(x,y_test_loss_scores, c='g', label='Loss')\n",
    "plt.scatter(x,y_test_accuracy_scores, c='r', label='Accuracy')\n",
    "plt.title('Impact of Noise on Model Loss(g) and Accuracy(r)')\n",
    "plt.xlabel('Models: Clean, Noise, Noise Factor 2')\n",
    "plt.ylabel('Score')\n",
    "plt.legend()\n",
    "plt.xticks(np.arange(min(x), max(x)+1))"
   ]
  },
  {
   "cell_type": "markdown",
   "metadata": {},
   "source": [
    "## Conv Net\n",
    "Trains a simple convnet on the MNIST dataset.\n",
    "Gets to 99.25% test accuracy after 12 epochs\n",
    "(there is still a lot of margin for parameter tuning).\n"
   ]
  },
  {
   "cell_type": "code",
   "execution_count": 13,
   "metadata": {
    "scrolled": true
   },
   "outputs": [
    {
     "name": "stdout",
     "output_type": "stream",
     "text": [
      "x_train shape: (60000, 28, 28, 1)\n",
      "60000 train samples\n",
      "10000 test samples\n"
     ]
    }
   ],
   "source": [
    "# input image dimensions\n",
    "img_rows, img_cols = 28, 28\n",
    "\n",
    "# the data, shuffled and split between train and test sets\n",
    "(x_train, y_train), (x_test, y_test) = mnist.load_data()\n",
    "\n",
    "if backend.image_data_format() == 'channels_first':\n",
    "    x_train = x_train.reshape(x_train.shape[0], 1, img_rows, img_cols)\n",
    "    x_test = x_test.reshape(x_test.shape[0], 1, img_rows, img_cols)\n",
    "    input_shape = (1, img_rows, img_cols)\n",
    "else:\n",
    "    x_train = x_train.reshape(x_train.shape[0], img_rows, img_cols, 1)\n",
    "    x_test = x_test.reshape(x_test.shape[0], img_rows, img_cols, 1)\n",
    "    input_shape = (img_rows, img_cols, 1)\n",
    "\n",
    "x_train = x_train.astype('float32')\n",
    "x_test = x_test.astype('float32')\n",
    "x_train /= 255\n",
    "x_test /= 255\n",
    "print('x_train shape:', x_train.shape)\n",
    "print(x_train.shape[0], 'train samples')\n",
    "print(x_test.shape[0], 'test samples')"
   ]
  },
  {
   "cell_type": "code",
   "execution_count": 14,
   "metadata": {},
   "outputs": [],
   "source": [
    "#define noise\n",
    "huge_gaussian_noise_train = np.random.normal(0,1, x_train.shape)\n",
    "huge_gaussian_noise_test = np.random.normal(0,1, x_test.shape)"
   ]
  },
  {
   "cell_type": "code",
   "execution_count": 15,
   "metadata": {},
   "outputs": [],
   "source": [
    "#generate new x_train and x_test with noise\n",
    "NOISY = 0.15 #constant\n",
    "x_train_noise = huge_gaussian_noise_train * NOISY + x_train \n",
    "x_train_noise_2 = huge_gaussian_noise_train * (NOISY*2) + x_train"
   ]
  },
  {
   "cell_type": "code",
   "execution_count": 16,
   "metadata": {},
   "outputs": [],
   "source": [
    "#generate new x_train and x_test with facator 2 noise\n",
    "NOISY = 0.3 #constant\n",
    "x_test_noise = huge_gaussian_noise_test * NOISY + x_test \n",
    "x_test_noise_2 = huge_gaussian_noise_test * (NOISY*2) + x_test"
   ]
  },
  {
   "cell_type": "markdown",
   "metadata": {},
   "source": [
    "# Conv Net Models:"
   ]
  },
  {
   "cell_type": "code",
   "execution_count": 17,
   "metadata": {},
   "outputs": [
    {
     "name": "stdout",
     "output_type": "stream",
     "text": [
      "Train on 60000 samples, validate on 10000 samples\n",
      "Epoch 1/12\n",
      "60000/60000 [==============================] - 199s 3ms/step - loss: 0.2850 - acc: 0.9117 - val_loss: 0.0598 - val_acc: 0.9803\n",
      "Epoch 2/12\n",
      "60000/60000 [==============================] - 292s 5ms/step - loss: 0.0951 - acc: 0.9716 - val_loss: 0.0418 - val_acc: 0.9867\n",
      "Epoch 3/12\n",
      "60000/60000 [==============================] - 316s 5ms/step - loss: 0.0694 - acc: 0.9798 - val_loss: 0.0369 - val_acc: 0.9869\n",
      "Epoch 4/12\n",
      "60000/60000 [==============================] - 288s 5ms/step - loss: 0.0580 - acc: 0.9828 - val_loss: 0.0300 - val_acc: 0.9897\n",
      "Epoch 5/12\n",
      "60000/60000 [==============================] - 268s 4ms/step - loss: 0.0491 - acc: 0.9852 - val_loss: 0.0320 - val_acc: 0.9892\n",
      "Epoch 6/12\n",
      "60000/60000 [==============================] - 316s 5ms/step - loss: 0.0433 - acc: 0.9870 - val_loss: 0.0296 - val_acc: 0.9903\n",
      "Epoch 7/12\n",
      "60000/60000 [==============================] - 260s 4ms/step - loss: 0.0401 - acc: 0.9880 - val_loss: 0.0258 - val_acc: 0.9911\n",
      "Epoch 8/12\n",
      "60000/60000 [==============================] - 240s 4ms/step - loss: 0.0367 - acc: 0.9887 - val_loss: 0.0292 - val_acc: 0.9900\n",
      "Epoch 9/12\n",
      "60000/60000 [==============================] - 273s 5ms/step - loss: 0.0327 - acc: 0.9898 - val_loss: 0.0266 - val_acc: 0.9911\n",
      "Epoch 10/12\n",
      "60000/60000 [==============================] - 262s 4ms/step - loss: 0.0305 - acc: 0.9905 - val_loss: 0.0277 - val_acc: 0.9911\n",
      "Epoch 11/12\n",
      "60000/60000 [==============================] - 271s 5ms/step - loss: 0.0308 - acc: 0.9903 - val_loss: 0.0251 - val_acc: 0.9926\n",
      "Epoch 12/12\n",
      "60000/60000 [==============================] - 259s 4ms/step - loss: 0.0275 - acc: 0.9914 - val_loss: 0.0275 - val_acc: 0.9918\n",
      "Test loss: 0.027517108637413638\n",
      "Test accuracy: 0.9918\n"
     ]
    }
   ],
   "source": [
    "#clean\n",
    "\n",
    "batch_size = 128\n",
    "num_classes = 10\n",
    "epochs = 12\n",
    "\n",
    "# convert class vectors to binary class matrices\n",
    "y_train = keras.utils.to_categorical(y_train, num_classes)\n",
    "y_test = keras.utils.to_categorical(y_test, num_classes)\n",
    "\n",
    "model = Sequential()\n",
    "model.add(Conv2D(32, kernel_size=(3, 3),\n",
    "                 activation='relu',\n",
    "                 input_shape=input_shape))\n",
    "model.add(Conv2D(64, (3, 3), activation='relu'))\n",
    "model.add(MaxPooling2D(pool_size=(2, 2)))\n",
    "model.add(Dropout(0.25))\n",
    "model.add(Flatten())\n",
    "model.add(Dense(128, activation='relu'))\n",
    "model.add(Dropout(0.5))\n",
    "model.add(Dense(num_classes, activation='softmax'))\n",
    "\n",
    "model.compile(loss=keras.losses.categorical_crossentropy,\n",
    "              optimizer=keras.optimizers.Adadelta(),\n",
    "              metrics=['accuracy'])\n",
    "\n",
    "model.fit(x_train, y_train,\n",
    "          batch_size=batch_size,\n",
    "          epochs=epochs,\n",
    "          verbose=1,\n",
    "          validation_data=(x_test, y_test))\n",
    "score = model.evaluate(x_test, y_test, verbose=0)\n",
    "print('Test loss:', score[0])\n",
    "print('Test accuracy:', score[1])"
   ]
  },
  {
   "cell_type": "code",
   "execution_count": 18,
   "metadata": {},
   "outputs": [
    {
     "name": "stdout",
     "output_type": "stream",
     "text": [
      "Train on 60000 samples, validate on 10000 samples\n",
      "Epoch 1/12\n",
      "60000/60000 [==============================] - 188s 3ms/step - loss: 0.2808 - acc: 0.9133 - val_loss: 0.0868 - val_acc: 0.9722\n",
      "Epoch 2/12\n",
      "60000/60000 [==============================] - 223s 4ms/step - loss: 0.0968 - acc: 0.9703 - val_loss: 0.0655 - val_acc: 0.9787\n",
      "Epoch 3/12\n",
      "60000/60000 [==============================] - 257s 4ms/step - loss: 0.0714 - acc: 0.9789 - val_loss: 0.0624 - val_acc: 0.9795\n",
      "Epoch 4/12\n",
      "60000/60000 [==============================] - 257s 4ms/step - loss: 0.0605 - acc: 0.9809 - val_loss: 0.0586 - val_acc: 0.9796\n",
      "Epoch 5/12\n",
      "60000/60000 [==============================] - 292s 5ms/step - loss: 0.0529 - acc: 0.9837 - val_loss: 0.0538 - val_acc: 0.9829\n",
      "Epoch 6/12\n",
      "60000/60000 [==============================] - 280s 5ms/step - loss: 0.0458 - acc: 0.9855 - val_loss: 0.0620 - val_acc: 0.9809\n",
      "Epoch 7/12\n",
      "60000/60000 [==============================] - 273s 5ms/step - loss: 0.0436 - acc: 0.9869 - val_loss: 0.0616 - val_acc: 0.9815\n",
      "Epoch 8/12\n",
      "60000/60000 [==============================] - 204s 3ms/step - loss: 0.0406 - acc: 0.9870 - val_loss: 0.0694 - val_acc: 0.9794\n",
      "Epoch 9/12\n",
      "60000/60000 [==============================] - 213s 4ms/step - loss: 0.0359 - acc: 0.9888 - val_loss: 0.0590 - val_acc: 0.9815\n",
      "Epoch 10/12\n",
      "60000/60000 [==============================] - 199s 3ms/step - loss: 0.0334 - acc: 0.9897 - val_loss: 0.0653 - val_acc: 0.9801\n",
      "Epoch 11/12\n",
      "60000/60000 [==============================] - 204s 3ms/step - loss: 0.0303 - acc: 0.9904 - val_loss: 0.0577 - val_acc: 0.9814\n",
      "Epoch 12/12\n",
      "60000/60000 [==============================] - 204s 3ms/step - loss: 0.0309 - acc: 0.9906 - val_loss: 0.0665 - val_acc: 0.9811\n",
      "Test loss: 0.06648664653106826\n",
      "Test accuracy: 0.9811\n"
     ]
    }
   ],
   "source": [
    "#noise\n",
    "\n",
    "batch_size = 128\n",
    "num_classes = 10\n",
    "epochs = 12\n",
    "\n",
    "model_noise = Sequential()\n",
    "model_noise.add(Conv2D(32, kernel_size=(3, 3),\n",
    "                 activation='relu',\n",
    "                 input_shape=input_shape))\n",
    "model_noise.add(Conv2D(64, (3, 3), activation='relu'))\n",
    "model_noise.add(MaxPooling2D(pool_size=(2, 2)))\n",
    "model_noise.add(Dropout(0.25))\n",
    "model_noise.add(Flatten())\n",
    "model_noise.add(Dense(128, activation='relu'))\n",
    "model_noise.add(Dropout(0.5))\n",
    "model_noise.add(Dense(num_classes, activation='softmax'))\n",
    "\n",
    "model_noise.compile(loss=keras.losses.categorical_crossentropy,\n",
    "              optimizer=keras.optimizers.Adadelta(),\n",
    "              metrics=['accuracy'])\n",
    "\n",
    "model_noise.fit(x_train_noise, y_train,\n",
    "          batch_size=batch_size,\n",
    "          epochs=epochs,\n",
    "          verbose=1,\n",
    "          validation_data=(x_test_noise, y_test))\n",
    "score_noise = model_noise.evaluate(x_test_noise, y_test, verbose=0)\n",
    "print('Test loss:', score_noise[0])\n",
    "print('Test accuracy:', score_noise[1])"
   ]
  },
  {
   "cell_type": "code",
   "execution_count": 19,
   "metadata": {},
   "outputs": [
    {
     "name": "stdout",
     "output_type": "stream",
     "text": [
      "Train on 60000 samples, validate on 10000 samples\n",
      "Epoch 1/12\n",
      "60000/60000 [==============================] - 180s 3ms/step - loss: 0.3573 - acc: 0.8880 - val_loss: 0.1948 - val_acc: 0.9353\n",
      "Epoch 2/12\n",
      "60000/60000 [==============================] - 198s 3ms/step - loss: 0.1255 - acc: 0.9625 - val_loss: 0.2004 - val_acc: 0.9344\n",
      "Epoch 3/12\n",
      "60000/60000 [==============================] - 219s 4ms/step - loss: 0.0945 - acc: 0.9714 - val_loss: 0.1875 - val_acc: 0.9380\n",
      "Epoch 4/12\n",
      "60000/60000 [==============================] - 175s 3ms/step - loss: 0.0779 - acc: 0.9764 - val_loss: 0.2230 - val_acc: 0.9264\n",
      "Epoch 5/12\n",
      "60000/60000 [==============================] - 206s 3ms/step - loss: 0.0664 - acc: 0.9796 - val_loss: 0.2153 - val_acc: 0.9284\n",
      "Epoch 6/12\n",
      "60000/60000 [==============================] - 219s 4ms/step - loss: 0.0608 - acc: 0.9815 - val_loss: 0.2378 - val_acc: 0.9204\n",
      "Epoch 7/12\n",
      "60000/60000 [==============================] - 220s 4ms/step - loss: 0.0553 - acc: 0.9831 - val_loss: 0.1978 - val_acc: 0.9348\n",
      "Epoch 8/12\n",
      "60000/60000 [==============================] - 232s 4ms/step - loss: 0.0478 - acc: 0.9849 - val_loss: 0.1977 - val_acc: 0.9356\n",
      "Epoch 9/12\n",
      "60000/60000 [==============================] - 221s 4ms/step - loss: 0.0426 - acc: 0.9863 - val_loss: 0.2048 - val_acc: 0.9326\n",
      "Epoch 10/12\n",
      "60000/60000 [==============================] - 222s 4ms/step - loss: 0.0401 - acc: 0.9870 - val_loss: 0.2618 - val_acc: 0.9176\n",
      "Epoch 11/12\n",
      "60000/60000 [==============================] - 219s 4ms/step - loss: 0.0371 - acc: 0.9882 - val_loss: 0.2878 - val_acc: 0.9098\n",
      "Epoch 12/12\n",
      "60000/60000 [==============================] - 186s 3ms/step - loss: 0.0345 - acc: 0.9889 - val_loss: 0.3001 - val_acc: 0.9151\n",
      "Test loss: 3.0350480186462403\n",
      "Test accuracy: 0.4806\n"
     ]
    }
   ],
   "source": [
    "#noise factor 2\n",
    "\n",
    "batch_size = 128\n",
    "num_classes = 10\n",
    "epochs = 12\n",
    "\n",
    "model_noise_2 = Sequential()\n",
    "model_noise_2.add(Conv2D(32, kernel_size=(3, 3),\n",
    "                 activation='relu',\n",
    "                 input_shape=input_shape))\n",
    "model_noise_2.add(Conv2D(64, (3, 3), activation='relu'))\n",
    "model_noise_2.add(MaxPooling2D(pool_size=(2, 2)))\n",
    "model_noise_2.add(Dropout(0.25))\n",
    "model_noise_2.add(Flatten())\n",
    "model_noise_2.add(Dense(128, activation='relu'))\n",
    "model_noise_2.add(Dropout(0.5))\n",
    "model_noise_2.add(Dense(num_classes, activation='softmax'))\n",
    "\n",
    "model_noise_2.compile(loss=keras.losses.categorical_crossentropy,\n",
    "              optimizer=keras.optimizers.Adadelta(),\n",
    "              metrics=['accuracy'])\n",
    "\n",
    "model_noise_2.fit(x_train_noise_2, y_train,\n",
    "          batch_size=batch_size,\n",
    "          epochs=epochs,\n",
    "          verbose=1,\n",
    "          validation_data=(x_test_noise_2, y_test))\n",
    "score_noise_2 = model.evaluate(x_test_noise_2, y_test, verbose=0)\n",
    "print('Test loss:', score_noise_2[0])\n",
    "print('Test accuracy:', score_noise_2[1])"
   ]
  },
  {
   "cell_type": "markdown",
   "metadata": {},
   "source": [
    "# Conv Net Figures:"
   ]
  },
  {
   "cell_type": "code",
   "execution_count": 20,
   "metadata": {},
   "outputs": [
    {
     "name": "stdout",
     "output_type": "stream",
     "text": [
      "Test loss: 0.027517108637413638\n",
      "Test accuracy: 0.9918\n"
     ]
    },
    {
     "data": {
      "image/png": "[encoded data removed]",
      "text/plain": [
       "<Figure size 432x288 with 1 Axes>"
      ]
     },
     "metadata": {
      "needs_background": "light"
     },
     "output_type": "display_data"
    }
   ],
   "source": [
    "#clean\n",
    "x_train = x_train.reshape(60000,28,28)#reshaped data for image call\n",
    "plt.imshow(x_train[0])\n",
    "\n",
    "print('Test loss:', score[0])\n",
    "print('Test accuracy:', score[1])"
   ]
  },
  {
   "cell_type": "code",
   "execution_count": 21,
   "metadata": {},
   "outputs": [
    {
     "name": "stdout",
     "output_type": "stream",
     "text": [
      "Test loss: 0.06648664653106826\n",
      "Test accuracy: 0.9811\n"
     ]
    },
    {
     "data": {
      "image/png": "[encoded data removed]",
      "text/plain": [
       "<Figure size 432x288 with 1 Axes>"
      ]
     },
     "metadata": {
      "needs_background": "light"
     },
     "output_type": "display_data"
    }
   ],
   "source": [
    "#noise\n",
    "x_train_noise = x_train_noise.reshape(60000,28,28)#reshaped data for image call\n",
    "plt.imshow(x_train_noise[0])\n",
    "\n",
    "print('Test loss:', score_noise[0])\n",
    "print('Test accuracy:', score_noise[1])"
   ]
  },
  {
   "cell_type": "code",
   "execution_count": 22,
   "metadata": {},
   "outputs": [
    {
     "name": "stdout",
     "output_type": "stream",
     "text": [
      "Test loss: 3.0350480186462403\n",
      "Test accuracy: 0.4806\n"
     ]
    },
    {
     "data": {
      "image/png": "[encoded data removed]",
      "text/plain": [
       "<Figure size 432x288 with 1 Axes>"
      ]
     },
     "metadata": {
      "needs_background": "light"
     },
     "output_type": "display_data"
    }
   ],
   "source": [
    "#noise factor 2\n",
    "x_train_noise_2 = x_train_noise_2.reshape(60000,28,28)#reshaped data for image call\n",
    "plt.imshow(x_train_noise_2[0])\n",
    "\n",
    "print('Test loss:', score_noise_2[0])\n",
    "print('Test accuracy:', score_noise_2[1])"
   ]
  },
  {
   "cell_type": "code",
   "execution_count": 23,
   "metadata": {},
   "outputs": [
    {
     "data": {
      "text/plain": [
       "([<matplotlib.axis.XTick at 0x251cf5125f8>,\n",
       "  <matplotlib.axis.XTick at 0x251cf505ef0>,\n",
       "  <matplotlib.axis.XTick at 0x251cf505978>],\n",
       " <a list of 3 Text xticklabel objects>)"
      ]
     },
     "execution_count": 23,
     "metadata": {},
     "output_type": "execute_result"
    },
    {
     "data": {
      "image/png": "[encoded data removed]",
      "text/plain": [
       "<Figure size 432x288 with 1 Axes>"
      ]
     },
     "metadata": {
      "needs_background": "light"
     },
     "output_type": "display_data"
    }
   ],
   "source": [
    "#figure comparing noise impact on loss and accuracy scores\n",
    "x = [1,2,3]\n",
    "y_test_loss_scores = [score[0], score_noise[0], score_noise_2[0]]\n",
    "y_test_accuracy_scores = [score[1], score_noise[1], score_noise_2[1]]\n",
    "\n",
    "plt.scatter(x,y_test_loss_scores, c='g', label='Loss')\n",
    "plt.scatter(x,y_test_accuracy_scores, c='r', label='Accuracy')\n",
    "plt.title('Impact of Noise on Model Loss(g) and Accuracy(r)')\n",
    "plt.xlabel('Models: Clean, Noise, Noise Factor 2')\n",
    "plt.ylabel('Score')\n",
    "plt.legend()\n",
    "plt.xticks(np.arange(min(x), max(x)+1))"
   ]
  }
 ],
 "metadata": {
  "kernelspec": {
   "display_name": "Python 3",
   "language": "python",
   "name": "python3"
  },
  "language_info": {
   "codemirror_mode": {
    "name": "ipython",
    "version": 3
   },
   "file_extension": ".py",
   "mimetype": "text/x-python",
   "name": "python",
   "nbconvert_exporter": "python",
   "pygments_lexer": "ipython3",
   "version": "3.6.7"
  }
 },
 "nbformat": 4,
 "nbformat_minor": 2
}
