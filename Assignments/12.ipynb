{
 "cells": [
  {
   "cell_type": "markdown",
   "metadata": {},
   "source": [
    "# Assignment 12 - Neural Networks image recognition\n",
    "Use both MLNN and the ConvNet to solve the following problem.\n",
    "\n",
    "1. Add random noise (i.e. `np.random.normal`) to the images in training and testing. Make sure each image gets a different noise feature added to it. Inspect by printing out an image. \n",
    "2. Compare the loss/accuracy (train, val) after N epochs for both MLNN and ConvNet with and without noise. \n",
    "3. Vary the amount of noise (multiply `np.random.normal` by a factor) and keep track of the accuracy and loss (for training and validation) and plot these results."
   ]
  },
  {
   "cell_type": "markdown",
   "metadata": {},
   "source": [
    "# Neural Networks - Image Recognition "
   ]
  },
  {
   "cell_type": "code",
   "execution_count": 1,
   "metadata": {},
   "outputs": [
    {
     "name": "stderr",
     "output_type": "stream",
     "text": [
      "Using TensorFlow backend.\n"
     ]
    }
   ],
   "source": [
    "import keras\n",
    "from keras.datasets import mnist\n",
    "from keras.models import Sequential\n",
    "from keras.optimizers import RMSprop\n",
    "from keras.layers import Dense, Dropout, Flatten\n",
    "from keras.layers import Conv2D, MaxPooling2D\n",
    "from keras import backend\n",
    "import matplotlib.pyplot as plt\n",
    "import numpy as np"
   ]
  },
  {
   "cell_type": "markdown",
   "metadata": {},
   "source": [
    "## Multi Layer Neural Network\n",
    "Trains a simple deep NN on the MNIST dataset.\n",
    "Gets to 98.40% test accuracy after 20 epochs\n",
    "(there is *a lot* of margin for parameter tuning)."
   ]
  },
  {
   "cell_type": "code",
   "execution_count": 2,
   "metadata": {},
   "outputs": [
    {
     "name": "stdout",
     "output_type": "stream",
     "text": [
      "60000 train samples\n",
      "10000 test samples\n"
     ]
    }
   ],
   "source": [
    "# the data, shuffled and split between train and test sets\n",
    "(x_train, y_train), (x_test, y_test) = mnist.load_data()\n",
    "\n",
    "x_train = x_train.reshape(60000, 784)\n",
    "x_test = x_test.reshape(10000, 784)\n",
    "x_train = x_train.astype('float32')\n",
    "x_test = x_test.astype('float32')\n",
    "x_train /= 255\n",
    "x_test /= 255\n",
    "print(x_train.shape[0], 'train samples')\n",
    "print(x_test.shape[0], 'test samples')"
   ]
  },
  {
   "cell_type": "code",
   "execution_count": 3,
   "metadata": {},
   "outputs": [],
   "source": [
    "#define noise\n",
    "huge_gaussian_noise_train = np.random.normal(0,1, x_train.shape)\n",
    "huge_gaussian_noise_test = np.random.normal(0,1, x_test.shape)"
   ]
  },
  {
   "cell_type": "code",
   "execution_count": 4,
   "metadata": {},
   "outputs": [],
   "source": [
    "#generate new x_train and x_test with noise\n",
    "NOISY = 0.15 #constant\n",
    "x_train_noise = huge_gaussian_noise_train * NOISY + x_train \n",
    "x_train_noise_2 = huge_gaussian_noise_train * (NOISY*2) + x_train"
   ]
  },
  {
   "cell_type": "code",
   "execution_count": 5,
   "metadata": {},
   "outputs": [],
   "source": [
    "#generate new x_train and x_test with facator 2 noise\n",
    "NOISY = 0.3 #constant\n",
    "x_test_noise = huge_gaussian_noise_test * NOISY + x_test \n",
    "x_test_noise_2 = huge_gaussian_noise_test * (NOISY*2) + x_test"
   ]
  },
  {
   "cell_type": "code",
   "execution_count": 6,
   "metadata": {
    "scrolled": true
   },
   "outputs": [
    {
     "name": "stdout",
     "output_type": "stream",
     "text": [
      "_________________________________________________________________\n",
      "Layer (type)                 Output Shape              Param #   \n",
      "=================================================================\n",
      "dense_1 (Dense)              (None, 512)               401920    \n",
      "_________________________________________________________________\n",
      "dropout_1 (Dropout)          (None, 512)               0         \n",
      "_________________________________________________________________\n",
      "dense_2 (Dense)              (None, 512)               262656    \n",
      "_________________________________________________________________\n",
      "dropout_2 (Dropout)          (None, 512)               0         \n",
      "_________________________________________________________________\n",
      "dense_3 (Dense)              (None, 10)                5130      \n",
      "=================================================================\n",
      "Total params: 669,706\n",
      "Trainable params: 669,706\n",
      "Non-trainable params: 0\n",
      "_________________________________________________________________\n",
      "Train on 60000 samples, validate on 10000 samples\n",
      "Epoch 1/20\n",
      "60000/60000 [==============================] - 8s 140us/step - loss: 0.2441 - acc: 0.9241 - val_loss: 0.1254 - val_acc: 0.9593\n",
      "Epoch 2/20\n",
      "60000/60000 [==============================] - 10s 170us/step - loss: 0.1026 - acc: 0.9689 - val_loss: 0.0796 - val_acc: 0.9761\n",
      "Epoch 3/20\n",
      "60000/60000 [==============================] - 12s 201us/step - loss: 0.0738 - acc: 0.9779 - val_loss: 0.0746 - val_acc: 0.9782\n",
      "Epoch 4/20\n",
      "60000/60000 [==============================] - 11s 182us/step - loss: 0.0587 - acc: 0.9821 - val_loss: 0.0927 - val_acc: 0.9759\n",
      "Epoch 5/20\n",
      "60000/60000 [==============================] - 10s 171us/step - loss: 0.0497 - acc: 0.9851 - val_loss: 0.0712 - val_acc: 0.9801\n",
      "Epoch 6/20\n",
      "60000/60000 [==============================] - 10s 164us/step - loss: 0.0424 - acc: 0.9877 - val_loss: 0.0670 - val_acc: 0.9825\n",
      "Epoch 7/20\n",
      "60000/60000 [==============================] - 10s 165us/step - loss: 0.0368 - acc: 0.9892 - val_loss: 0.0765 - val_acc: 0.9821\n",
      "Epoch 8/20\n",
      "60000/60000 [==============================] - 11s 178us/step - loss: 0.0342 - acc: 0.9898 - val_loss: 0.0785 - val_acc: 0.9846\n",
      "Epoch 9/20\n",
      "60000/60000 [==============================] - 10s 172us/step - loss: 0.0299 - acc: 0.9912 - val_loss: 0.0815 - val_acc: 0.9841\n",
      "Epoch 10/20\n",
      "60000/60000 [==============================] - 10s 165us/step - loss: 0.0276 - acc: 0.9917 - val_loss: 0.0889 - val_acc: 0.9845\n",
      "Epoch 11/20\n",
      "60000/60000 [==============================] - 10s 159us/step - loss: 0.0269 - acc: 0.9922 - val_loss: 0.0946 - val_acc: 0.9813\n",
      "Epoch 12/20\n",
      "60000/60000 [==============================] - 10s 159us/step - loss: 0.0245 - acc: 0.9929 - val_loss: 0.0872 - val_acc: 0.9843\n",
      "Epoch 13/20\n",
      "60000/60000 [==============================] - 9s 152us/step - loss: 0.0246 - acc: 0.9933 - val_loss: 0.0965 - val_acc: 0.9831\n",
      "Epoch 14/20\n",
      "60000/60000 [==============================] - 9s 151us/step - loss: 0.0228 - acc: 0.9937 - val_loss: 0.0903 - val_acc: 0.9842\n",
      "Epoch 15/20\n",
      "60000/60000 [==============================] - 9s 153us/step - loss: 0.0221 - acc: 0.9939 - val_loss: 0.0912 - val_acc: 0.9841\n",
      "Epoch 16/20\n",
      "60000/60000 [==============================] - 9s 154us/step - loss: 0.0204 - acc: 0.9945 - val_loss: 0.0937 - val_acc: 0.9846\n",
      "Epoch 17/20\n",
      "60000/60000 [==============================] - 9s 153us/step - loss: 0.0195 - acc: 0.9948 - val_loss: 0.1131 - val_acc: 0.9829\n",
      "Epoch 18/20\n",
      "60000/60000 [==============================] - 9s 151us/step - loss: 0.0188 - acc: 0.9954 - val_loss: 0.1125 - val_acc: 0.9837\n",
      "Epoch 19/20\n",
      "60000/60000 [==============================] - 9s 152us/step - loss: 0.0182 - acc: 0.9950 - val_loss: 0.1066 - val_acc: 0.9841\n",
      "Epoch 20/20\n",
      "60000/60000 [==============================] - 9s 154us/step - loss: 0.0177 - acc: 0.9953 - val_loss: 0.1222 - val_acc: 0.9828\n",
      "Test loss: 0.12219816895687018\n",
      "Test accuracy: 0.9828\n"
     ]
    }
   ],
   "source": [
    "#clean model\n",
    "\n",
    "batch_size = 128\n",
    "num_classes = 10\n",
    "epochs = 20\n",
    "\n",
    "# convert class vectors to binary class matrices\n",
    "y_train = keras.utils.to_categorical(y_train, num_classes)\n",
    "y_test = keras.utils.to_categorical(y_test, num_classes)\n",
    "\n",
    "model = Sequential()\n",
    "model.add(Dense(512, activation='relu', input_shape=(784,)))\n",
    "model.add(Dropout(0.2))\n",
    "model.add(Dense(512, activation='relu'))\n",
    "model.add(Dropout(0.2))\n",
    "model.add(Dense(10, activation='softmax'))\n",
    "\n",
    "model.summary()\n",
    "\n",
    "model.compile(loss='categorical_crossentropy',\n",
    "              optimizer=RMSprop(),\n",
    "              metrics=['accuracy'])\n",
    "\n",
    "history = model.fit(x_train, y_train,\n",
    "                    batch_size=batch_size,\n",
    "                    epochs=epochs,\n",
    "                    verbose=1,\n",
    "                    validation_data=(x_test, y_test))\n",
    "\n",
    "score = model.evaluate(x_test, y_test, verbose=0)\n",
    "print('Test loss:', score[0])\n",
    "print('Test accuracy:', score[1])"
   ]
  },
  {
   "cell_type": "code",
   "execution_count": 7,
   "metadata": {
    "scrolled": true
   },
   "outputs": [
    {
     "name": "stdout",
     "output_type": "stream",
     "text": [
      "_________________________________________________________________\n",
      "Layer (type)                 Output Shape              Param #   \n",
      "=================================================================\n",
      "dense_4 (Dense)              (None, 512)               401920    \n",
      "_________________________________________________________________\n",
      "dropout_3 (Dropout)          (None, 512)               0         \n",
      "_________________________________________________________________\n",
      "dense_5 (Dense)              (None, 512)               262656    \n",
      "_________________________________________________________________\n",
      "dropout_4 (Dropout)          (None, 512)               0         \n",
      "_________________________________________________________________\n",
      "dense_6 (Dense)              (None, 10)                5130      \n",
      "=================================================================\n",
      "Total params: 669,706\n",
      "Trainable params: 669,706\n",
      "Non-trainable params: 0\n",
      "_________________________________________________________________\n",
      "Train on 60000 samples, validate on 10000 samples\n",
      "Epoch 1/20\n",
      "60000/60000 [==============================] - 8s 141us/step - loss: 0.2857 - acc: 0.9122 - val_loss: 0.1952 - val_acc: 0.9375\n",
      "Epoch 2/20\n",
      "60000/60000 [==============================] - 8s 136us/step - loss: 0.1063 - acc: 0.9675 - val_loss: 0.2019 - val_acc: 0.9421\n",
      "Epoch 3/20\n",
      "60000/60000 [==============================] - 8s 138us/step - loss: 0.0613 - acc: 0.9810 - val_loss: 0.2233 - val_acc: 0.9446\n",
      "Epoch 4/20\n",
      "60000/60000 [==============================] - 8s 140us/step - loss: 0.0415 - acc: 0.9868 - val_loss: 0.3121 - val_acc: 0.9362\n",
      "Epoch 5/20\n",
      "60000/60000 [==============================] - 10s 166us/step - loss: 0.0289 - acc: 0.9907 - val_loss: 0.3106 - val_acc: 0.9426\n",
      "Epoch 6/20\n",
      "60000/60000 [==============================] - 10s 161us/step - loss: 0.0239 - acc: 0.9921 - val_loss: 0.3618 - val_acc: 0.9370\n",
      "Epoch 7/20\n",
      "60000/60000 [==============================] - 9s 158us/step - loss: 0.0176 - acc: 0.9945 - val_loss: 0.4039 - val_acc: 0.9356\n",
      "Epoch 8/20\n",
      "60000/60000 [==============================] - 9s 154us/step - loss: 0.0170 - acc: 0.9951 - val_loss: 0.3965 - val_acc: 0.9384\n",
      "Epoch 9/20\n",
      "60000/60000 [==============================] - 9s 154us/step - loss: 0.0150 - acc: 0.9952 - val_loss: 0.4164 - val_acc: 0.9383\n",
      "Epoch 10/20\n",
      "60000/60000 [==============================] - 9s 156us/step - loss: 0.0121 - acc: 0.9961 - val_loss: 0.4623 - val_acc: 0.9403\n",
      "Epoch 11/20\n",
      "60000/60000 [==============================] - 10s 159us/step - loss: 0.0139 - acc: 0.9960 - val_loss: 0.5154 - val_acc: 0.9306\n",
      "Epoch 12/20\n",
      "60000/60000 [==============================] - 10s 163us/step - loss: 0.0135 - acc: 0.9961 - val_loss: 0.4747 - val_acc: 0.9390\n",
      "Epoch 13/20\n",
      "60000/60000 [==============================] - 10s 159us/step - loss: 0.0103 - acc: 0.9968 - val_loss: 0.5099 - val_acc: 0.9348\n",
      "Epoch 14/20\n",
      "60000/60000 [==============================] - 9s 155us/step - loss: 0.0112 - acc: 0.9969 - val_loss: 0.4989 - val_acc: 0.9389\n",
      "Epoch 15/20\n",
      "60000/60000 [==============================] - 9s 156us/step - loss: 0.0099 - acc: 0.9971 - val_loss: 0.4976 - val_acc: 0.9395\n",
      "Epoch 16/20\n",
      "60000/60000 [==============================] - 9s 155us/step - loss: 0.0090 - acc: 0.9975 - val_loss: 0.5821 - val_acc: 0.9337\n",
      "Epoch 17/20\n",
      "60000/60000 [==============================] - 9s 158us/step - loss: 0.0098 - acc: 0.9973 - val_loss: 0.5531 - val_acc: 0.9377\n",
      "Epoch 18/20\n",
      "60000/60000 [==============================] - 9s 157us/step - loss: 0.0098 - acc: 0.9974 - val_loss: 0.5866 - val_acc: 0.9353\n",
      "Epoch 19/20\n",
      "60000/60000 [==============================] - 9s 155us/step - loss: 0.0078 - acc: 0.9980 - val_loss: 0.5442 - val_acc: 0.9394\n",
      "Epoch 20/20\n",
      "60000/60000 [==============================] - 9s 158us/step - loss: 0.0093 - acc: 0.9975 - val_loss: 0.5951 - val_acc: 0.9350\n",
      "Test loss: 0.5951380130973678\n",
      "Test accuracy: 0.935\n"
     ]
    }
   ],
   "source": [
    "#noise model\n",
    "\n",
    "batch_size = 128\n",
    "num_classes = 10\n",
    "epochs = 20\n",
    "\n",
    "# convert class vectors to binary class matrices\n",
    "#y_train = keras.utils.to_categorical(y_train, num_classes)\n",
    "#y_test = keras.utils.to_categorical(y_test, num_classes)\n",
    "\n",
    "model_noise = Sequential()\n",
    "model_noise.add(Dense(512, activation='relu', input_shape=(784,)))\n",
    "model_noise.add(Dropout(0.2))\n",
    "model_noise.add(Dense(512, activation='relu'))\n",
    "model_noise.add(Dropout(0.2))\n",
    "model_noise.add(Dense(10, activation='softmax'))\n",
    "\n",
    "model_noise.summary()\n",
    "\n",
    "model_noise.compile(loss='categorical_crossentropy',\n",
    "              optimizer=RMSprop(),\n",
    "              metrics=['accuracy'])\n",
    "\n",
    "history_noise = model_noise.fit(x_train_noise, y_train,\n",
    "                    batch_size=batch_size,\n",
    "                    epochs=epochs,\n",
    "                    verbose=1,\n",
    "                    validation_data=(x_test_noise, y_test))\n",
    "\n",
    "score_noise = model_noise.evaluate(x_test_noise, y_test, verbose=0)\n",
    "print('Test loss:', score_noise[0])\n",
    "print('Test accuracy:', score_noise[1])"
   ]
  },
  {
   "cell_type": "code",
   "execution_count": 8,
   "metadata": {
    "scrolled": true
   },
   "outputs": [
    {
     "name": "stdout",
     "output_type": "stream",
     "text": [
      "_________________________________________________________________\n",
      "Layer (type)                 Output Shape              Param #   \n",
      "=================================================================\n",
      "dense_7 (Dense)              (None, 512)               401920    \n",
      "_________________________________________________________________\n",
      "dropout_5 (Dropout)          (None, 512)               0         \n",
      "_________________________________________________________________\n",
      "dense_8 (Dense)              (None, 512)               262656    \n",
      "_________________________________________________________________\n",
      "dropout_6 (Dropout)          (None, 512)               0         \n",
      "_________________________________________________________________\n",
      "dense_9 (Dense)              (None, 10)                5130      \n",
      "=================================================================\n",
      "Total params: 669,706\n",
      "Trainable params: 669,706\n",
      "Non-trainable params: 0\n",
      "_________________________________________________________________\n",
      "Train on 60000 samples, validate on 10000 samples\n",
      "Epoch 1/20\n",
      "60000/60000 [==============================] - 9s 151us/step - loss: 0.3727 - acc: 0.8825 - val_loss: 0.5424 - val_acc: 0.8417\n",
      "Epoch 2/20\n",
      "60000/60000 [==============================] - 10s 160us/step - loss: 0.1430 - acc: 0.9546 - val_loss: 0.5981 - val_acc: 0.8504\n",
      "Epoch 3/20\n",
      "60000/60000 [==============================] - 11s 188us/step - loss: 0.0714 - acc: 0.9779 - val_loss: 0.8451 - val_acc: 0.8389\n",
      "Epoch 4/20\n",
      "60000/60000 [==============================] - 10s 161us/step - loss: 0.0451 - acc: 0.9855 - val_loss: 0.9530 - val_acc: 0.8434\n",
      "Epoch 5/20\n",
      "60000/60000 [==============================] - 10s 161us/step - loss: 0.0340 - acc: 0.9892 - val_loss: 1.0383 - val_acc: 0.8464\n",
      "Epoch 6/20\n",
      "60000/60000 [==============================] - 9s 155us/step - loss: 0.0276 - acc: 0.9914 - val_loss: 1.1968 - val_acc: 0.8433\n",
      "Epoch 7/20\n",
      "60000/60000 [==============================] - 9s 155us/step - loss: 0.0237 - acc: 0.9919 - val_loss: 1.2278 - val_acc: 0.8452\n",
      "Epoch 8/20\n",
      "60000/60000 [==============================] - 10s 159us/step - loss: 0.0213 - acc: 0.9937 - val_loss: 1.2853 - val_acc: 0.8486\n",
      "Epoch 9/20\n",
      "60000/60000 [==============================] - 9s 157us/step - loss: 0.0192 - acc: 0.9941 - val_loss: 1.3328 - val_acc: 0.8505\n",
      "Epoch 10/20\n",
      "60000/60000 [==============================] - 9s 158us/step - loss: 0.0183 - acc: 0.9948 - val_loss: 1.3904 - val_acc: 0.8465\n",
      "Epoch 11/20\n",
      "60000/60000 [==============================] - 9s 155us/step - loss: 0.0150 - acc: 0.9954 - val_loss: 1.4565 - val_acc: 0.8409\n",
      "Epoch 12/20\n",
      "60000/60000 [==============================] - 9s 157us/step - loss: 0.0141 - acc: 0.9957 - val_loss: 1.4558 - val_acc: 0.8478\n",
      "Epoch 13/20\n",
      "60000/60000 [==============================] - 9s 157us/step - loss: 0.0121 - acc: 0.9963 - val_loss: 1.5182 - val_acc: 0.8464\n",
      "Epoch 14/20\n",
      "60000/60000 [==============================] - 9s 157us/step - loss: 0.0138 - acc: 0.9960 - val_loss: 1.6020 - val_acc: 0.8409\n",
      "Epoch 15/20\n",
      "60000/60000 [==============================] - 10s 159us/step - loss: 0.0148 - acc: 0.9961 - val_loss: 1.5280 - val_acc: 0.8489\n",
      "Epoch 16/20\n",
      "60000/60000 [==============================] - 10s 163us/step - loss: 0.0137 - acc: 0.9964 - val_loss: 1.5352 - val_acc: 0.8498\n",
      "Epoch 17/20\n",
      "60000/60000 [==============================] - 10s 166us/step - loss: 0.0114 - acc: 0.9970 - val_loss: 1.5994 - val_acc: 0.8475\n",
      "Epoch 18/20\n",
      "60000/60000 [==============================] - 10s 161us/step - loss: 0.0126 - acc: 0.9968 - val_loss: 1.6996 - val_acc: 0.8412\n",
      "Epoch 19/20\n",
      "60000/60000 [==============================] - 9s 158us/step - loss: 0.0120 - acc: 0.9970 - val_loss: 1.6856 - val_acc: 0.8427\n",
      "Epoch 20/20\n",
      "60000/60000 [==============================] - 9s 158us/step - loss: 0.0108 - acc: 0.9971 - val_loss: 1.6326 - val_acc: 0.8471\n",
      "Test loss: 1.6326132934259214\n",
      "Test accuracy: 0.8471\n"
     ]
    }
   ],
   "source": [
    "#noise factor 2 model\n",
    "\n",
    "batch_size = 128\n",
    "num_classes = 10\n",
    "epochs = 20\n",
    "\n",
    "# convert class vectors to binary class matrices\n",
    "#y_train = keras.utils.to_categorical(y_train, num_classes)\n",
    "#y_test = keras.utils.to_categorical(y_test, num_classes)\n",
    "\n",
    "model_noise_2 = Sequential()\n",
    "model_noise_2.add(Dense(512, activation='relu', input_shape=(784,)))\n",
    "model_noise_2.add(Dropout(0.2))\n",
    "model_noise_2.add(Dense(512, activation='relu'))\n",
    "model_noise_2.add(Dropout(0.2))\n",
    "model_noise_2.add(Dense(10, activation='softmax'))\n",
    "\n",
    "model_noise_2.summary()\n",
    "\n",
    "model_noise_2.compile(loss='categorical_crossentropy',\n",
    "              optimizer=RMSprop(),\n",
    "              metrics=['accuracy'])\n",
    "\n",
    "history_noise_2 = model_noise_2.fit(x_train_noise_2, y_train,\n",
    "                    batch_size=batch_size,\n",
    "                    epochs=epochs,\n",
    "                    verbose=1,\n",
    "                    validation_data=(x_test_noise_2, y_test))\n",
    "\n",
    "score_noise_2 = model_noise_2.evaluate(x_test_noise_2, y_test, verbose=0)\n",
    "print('Test loss:', score_noise_2[0])\n",
    "print('Test accuracy:', score_noise_2[1])"
   ]
  },
  {
   "cell_type": "markdown",
   "metadata": {},
   "source": [
    "# MLNN Figures:"
   ]
  },
  {
   "cell_type": "code",
   "execution_count": 9,
   "metadata": {},
   "outputs": [
    {
     "name": "stdout",
     "output_type": "stream",
     "text": [
      "Test loss: 0.12219816895687018\n",
      "Test accuracy: 0.9828\n"
     ]
    },
    {
     "data": {
      "image/png": "[encoded data removed]",
      "text/plain": [
       "<Figure size 432x288 with 1 Axes>"
      ]
     },
     "metadata": {
      "needs_background": "light"
     },
     "output_type": "display_data"
    }
   ],
   "source": [
    "#clean\n",
    "x_train = x_train.reshape(60000,28,28)#reshaped data for image call\n",
    "plt.imshow(x_train[0])\n",
    "\n",
    "print('Test loss:', score[0])\n",
    "print('Test accuracy:', score[1])"
   ]
  },
  {
   "cell_type": "code",
   "execution_count": 10,
   "metadata": {},
   "outputs": [
    {
     "name": "stdout",
     "output_type": "stream",
     "text": [
      "Test loss: 0.5951380130973678\n",
      "Test accuracy: 0.935\n"
     ]
    },
    {
     "data": {
      "image/png": "[encoded data removed]",
      "text/plain": [
       "<Figure size 432x288 with 1 Axes>"
      ]
     },
     "metadata": {
      "needs_background": "light"
     },
     "output_type": "display_data"
    }
   ],
   "source": [
    "#noise\n",
    "x_train_noise = x_train_noise.reshape(60000,28,28)#reshaped data for image call\n",
    "plt.imshow(x_train_noise[0])\n",
    "\n",
    "print('Test loss:', score_noise[0])\n",
    "print('Test accuracy:', score_noise[1])"
   ]
  },
  {
   "cell_type": "code",
   "execution_count": 11,
   "metadata": {},
   "outputs": [
    {
     "name": "stdout",
     "output_type": "stream",
     "text": [
      "Test loss: 1.6326132934259214\n",
      "Test accuracy: 0.8471\n"
     ]
    },
    {
     "data": {
      "image/png": "[encoded data removed]",
      "text/plain": [
       "<Figure size 432x288 with 1 Axes>"
      ]
     },
     "metadata": {
      "needs_background": "light"
     },
     "output_type": "display_data"
    }
   ],
   "source": [
    "#noise factor 2\n",
    "x_train_noise_2 = x_train_noise_2.reshape(60000,28,28)#reshaped data for image call\n",
    "plt.imshow(x_train_noise_2[0])\n",
    "\n",
    "print('Test loss:', score_noise_2[0])\n",
    "print('Test accuracy:', score_noise_2[1])"
   ]
  },
  {
   "cell_type": "code",
   "execution_count": 12,
   "metadata": {},
   "outputs": [
    {
     "data": {
      "text/plain": [
       "([<matplotlib.axis.XTick at 0x1d0a48de8d0>,\n",
       "  <matplotlib.axis.XTick at 0x1d0a48de160>,\n",
       "  <matplotlib.axis.XTick at 0x1d0a48cf5c0>],\n",
       " <a list of 3 Text xticklabel objects>)"
      ]
     },
     "execution_count": 12,
     "metadata": {},
     "output_type": "execute_result"
    },
    {
     "data": {
      "image/png": "[encoded data removed]",
      "text/plain": [
       "<Figure size 432x288 with 1 Axes>"
      ]
     },
     "metadata": {
      "needs_background": "light"
     },
     "output_type": "display_data"
    }
   ],
   "source": [
    "#figure comparing noise impact on loss and accuracy scores\n",
    "x = [1,2,3]\n",
    "y_test_loss_scores = [score[0], score_noise[0], score_noise_2[0]]\n",
    "y_test_accuracy_scores = [score[1], score_noise[1], score_noise_2[1]]\n",
    "\n",
    "plt.scatter(x,y_test_loss_scores, c='g', label='Loss')\n",
    "plt.scatter(x,y_test_accuracy_scores, c='r', label='Accuracy')\n",
    "plt.title('Impact of Noise on Model Loss(g) and Accuracy(r)')\n",
    "plt.xlabel('Models: Clean, Noise, Noise Factor 2')\n",
    "plt.ylabel('Score')\n",
    "plt.legend()\n",
    "plt.xticks(np.arange(min(x), max(x)+1))"
   ]
  },
  {
   "cell_type": "markdown",
   "metadata": {},
   "source": [
    "## Conv Net\n",
    "Trains a simple convnet on the MNIST dataset.\n",
    "Gets to 99.25% test accuracy after 12 epochs\n",
    "(there is still a lot of margin for parameter tuning).\n"
   ]
  },
  {
   "cell_type": "code",
   "execution_count": 13,
   "metadata": {
    "scrolled": true
   },
   "outputs": [
    {
     "name": "stdout",
     "output_type": "stream",
     "text": [
      "x_train shape: (60000, 28, 28, 1)\n",
      "60000 train samples\n",
      "10000 test samples\n"
     ]
    }
   ],
   "source": [
    "# input image dimensions\n",
    "img_rows, img_cols = 28, 28\n",
    "\n",
    "# the data, shuffled and split between train and test sets\n",
    "(x_train, y_train), (x_test, y_test) = mnist.load_data()\n",
    "\n",
    "if backend.image_data_format() == 'channels_first':\n",
    "    x_train = x_train.reshape(x_train.shape[0], 1, img_rows, img_cols)\n",
    "    x_test = x_test.reshape(x_test.shape[0], 1, img_rows, img_cols)\n",
    "    input_shape = (1, img_rows, img_cols)\n",
    "else:\n",
    "    x_train = x_train.reshape(x_train.shape[0], img_rows, img_cols, 1)\n",
    "    x_test = x_test.reshape(x_test.shape[0], img_rows, img_cols, 1)\n",
    "    input_shape = (img_rows, img_cols, 1)\n",
    "\n",
    "x_train = x_train.astype('float32')\n",
    "x_test = x_test.astype('float32')\n",
    "x_train /= 255\n",
    "x_test /= 255\n",
    "print('x_train shape:', x_train.shape)\n",
    "print(x_train.shape[0], 'train samples')\n",
    "print(x_test.shape[0], 'test samples')"
   ]
  },
  {
   "cell_type": "code",
   "execution_count": 14,
   "metadata": {},
   "outputs": [],
   "source": [
    "#define noise\n",
    "huge_gaussian_noise_train = np.random.normal(0,1, x_train.shape)\n",
    "huge_gaussian_noise_test = np.random.normal(0,1, x_test.shape)"
   ]
  },
  {
   "cell_type": "code",
   "execution_count": 15,
   "metadata": {},
   "outputs": [],
   "source": [
    "#generate new x_train and x_test with noise\n",
    "NOISY = 0.15 #constant\n",
    "x_train_noise = huge_gaussian_noise_train * NOISY + x_train \n",
    "x_train_noise_2 = huge_gaussian_noise_train * (NOISY*2) + x_train"
   ]
  },
  {
   "cell_type": "code",
   "execution_count": 16,
   "metadata": {},
   "outputs": [],
   "source": [
    "#generate new x_train and x_test with facator 2 noise\n",
    "NOISY = 0.3 #constant\n",
    "x_test_noise = huge_gaussian_noise_test * NOISY + x_test \n",
    "x_test_noise_2 = huge_gaussian_noise_test * (NOISY*2) + x_test"
   ]
  },
  {
   "cell_type": "markdown",
   "metadata": {},
   "source": [
    "# Conv Net Models:"
   ]
  },
  {
   "cell_type": "code",
   "execution_count": null,
   "metadata": {},
   "outputs": [
    {
     "name": "stdout",
     "output_type": "stream",
     "text": [
      "Train on 60000 samples, validate on 10000 samples\n",
      "Epoch 1/12\n",
      "60000/60000 [==============================] - 140s 2ms/step - loss: 0.2543 - acc: 0.9226 - val_loss: 0.0687 - val_acc: 0.9781\n",
      "Epoch 2/12\n",
      "60000/60000 [==============================] - 209s 3ms/step - loss: 0.0862 - acc: 0.9745 - val_loss: 0.0424 - val_acc: 0.9855\n",
      "Epoch 3/12\n",
      "60000/60000 [==============================] - 143s 2ms/step - loss: 0.0648 - acc: 0.9808 - val_loss: 0.0331 - val_acc: 0.9889\n",
      "Epoch 4/12\n",
      "60000/60000 [==============================] - 145s 2ms/step - loss: 0.0537 - acc: 0.9840 - val_loss: 0.0366 - val_acc: 0.9881\n",
      "Epoch 5/12\n",
      "60000/60000 [==============================] - 145s 2ms/step - loss: 0.0455 - acc: 0.9862 - val_loss: 0.0316 - val_acc: 0.9888\n",
      "Epoch 6/12\n",
      "60000/60000 [==============================] - 605s 10ms/step - loss: 0.0412 - acc: 0.9873 - val_loss: 0.0325 - val_acc: 0.9900\n",
      "Epoch 7/12\n",
      "60000/60000 [==============================] - 144s 2ms/step - loss: 0.0374 - acc: 0.9888 - val_loss: 0.0297 - val_acc: 0.9898\n",
      "Epoch 8/12\n",
      "60000/60000 [==============================] - 346s 6ms/step - loss: 0.0331 - acc: 0.9900 - val_loss: 0.0322 - val_acc: 0.9902\n",
      "Epoch 9/12\n",
      "59904/60000 [============================>.] - ETA: 0s - loss: 0.0309 - acc: 0.9904"
     ]
    }
   ],
   "source": [
    "#clean\n",
    "\n",
    "batch_size = 128\n",
    "num_classes = 10\n",
    "epochs = 12\n",
    "\n",
    "# convert class vectors to binary class matrices\n",
    "y_train = keras.utils.to_categorical(y_train, num_classes)\n",
    "y_test = keras.utils.to_categorical(y_test, num_classes)\n",
    "\n",
    "model = Sequential()\n",
    "model.add(Conv2D(32, kernel_size=(3, 3),\n",
    "                 activation='relu',\n",
    "                 input_shape=input_shape))\n",
    "model.add(Conv2D(64, (3, 3), activation='relu'))\n",
    "model.add(MaxPooling2D(pool_size=(2, 2)))\n",
    "model.add(Dropout(0.25))\n",
    "model.add(Flatten())\n",
    "model.add(Dense(128, activation='relu'))\n",
    "model.add(Dropout(0.5))\n",
    "model.add(Dense(num_classes, activation='softmax'))\n",
    "\n",
    "model.compile(loss=keras.losses.categorical_crossentropy,\n",
    "              optimizer=keras.optimizers.Adadelta(),\n",
    "              metrics=['accuracy'])\n",
    "\n",
    "model.fit(x_train, y_train,\n",
    "          batch_size=batch_size,\n",
    "          epochs=epochs,\n",
    "          verbose=1,\n",
    "          validation_data=(x_test, y_test))\n",
    "score = model.evaluate(x_test, y_test, verbose=0)\n",
    "print('Test loss:', score[0])\n",
    "print('Test accuracy:', score[1])"
   ]
  },
  {
   "cell_type": "code",
   "execution_count": null,
   "metadata": {},
   "outputs": [],
   "source": [
    "#noise\n",
    "\n",
    "batch_size = 128\n",
    "num_classes = 10\n",
    "epochs = 12\n",
    "\n",
    "model_noise = Sequential()\n",
    "model_noise.add(Conv2D(32, kernel_size=(3, 3),\n",
    "                 activation='relu',\n",
    "                 input_shape=input_shape))\n",
    "model_noise.add(Conv2D(64, (3, 3), activation='relu'))\n",
    "model_noise.add(MaxPooling2D(pool_size=(2, 2)))\n",
    "model_noise.add(Dropout(0.25))\n",
    "model_noise.add(Flatten())\n",
    "model_noise.add(Dense(128, activation='relu'))\n",
    "model_noise.add(Dropout(0.5))\n",
    "model_noise.add(Dense(num_classes, activation='softmax'))\n",
    "\n",
    "model_noise.compile(loss=keras.losses.categorical_crossentropy,\n",
    "              optimizer=keras.optimizers.Adadelta(),\n",
    "              metrics=['accuracy'])\n",
    "\n",
    "model_noise.fit(x_train_noise, y_train,\n",
    "          batch_size=batch_size,\n",
    "          epochs=epochs,\n",
    "          verbose=1,\n",
    "          validation_data=(x_test_noise, y_test))\n",
    "score_noise = model_noise.evaluate(x_test_noise, y_test, verbose=0)\n",
    "print('Test loss:', score_noise[0])\n",
    "print('Test accuracy:', score_noise[1])"
   ]
  },
  {
   "cell_type": "code",
   "execution_count": null,
   "metadata": {},
   "outputs": [],
   "source": [
    "#noise factor 2\n",
    "\n",
    "batch_size = 128\n",
    "num_classes = 10\n",
    "epochs = 12\n",
    "\n",
    "model_noise_2 = Sequential()\n",
    "model_noise_2.add(Conv2D(32, kernel_size=(3, 3),\n",
    "                 activation='relu',\n",
    "                 input_shape=input_shape))\n",
    "model_noise_2.add(Conv2D(64, (3, 3), activation='relu'))\n",
    "model_noise_2.add(MaxPooling2D(pool_size=(2, 2)))\n",
    "model_noise_2.add(Dropout(0.25))\n",
    "model_noise_2.add(Flatten())\n",
    "model_noise_2.add(Dense(128, activation='relu'))\n",
    "model_noise_2.add(Dropout(0.5))\n",
    "model_noise_2.add(Dense(num_classes, activation='softmax'))\n",
    "\n",
    "model_noise_2.compile(loss=keras.losses.categorical_crossentropy,\n",
    "              optimizer=keras.optimizers.Adadelta(),\n",
    "              metrics=['accuracy'])\n",
    "\n",
    "model_noise_2.fit(x_train_noise_2, y_train,\n",
    "          batch_size=batch_size,\n",
    "          epochs=epochs,\n",
    "          verbose=1,\n",
    "          validation_data=(x_test_noise_2, y_test))\n",
    "score_noise_2 = model.evaluate(x_test_noise_2, y_test, verbose=0)\n",
    "print('Test loss:', score_noise_2[0])\n",
    "print('Test accuracy:', score_noise_2[1])"
   ]
  },
  {
   "cell_type": "markdown",
   "metadata": {},
   "source": [
    "# Conv Net Figures:"
   ]
  },
  {
   "cell_type": "code",
   "execution_count": null,
   "metadata": {},
   "outputs": [],
   "source": [
    "#clean\n",
    "x_train = x_train.reshape(60000,28,28)#reshaped data for image call\n",
    "plt.imshow(x_train[0])\n",
    "\n",
    "print('Test loss:', score[0])\n",
    "print('Test accuracy:', score[1])"
   ]
  },
  {
   "cell_type": "code",
   "execution_count": null,
   "metadata": {},
   "outputs": [],
   "source": [
    "#noise\n",
    "x_train_noise = x_train_noise.reshape(60000,28,28)#reshaped data for image call\n",
    "plt.imshow(x_train_noise[0])\n",
    "\n",
    "print('Test loss:', score_noise[0])\n",
    "print('Test accuracy:', score_noise[1])"
   ]
  },
  {
   "cell_type": "code",
   "execution_count": null,
   "metadata": {},
   "outputs": [],
   "source": [
    "#noise factor 2\n",
    "x_train_noise_2 = x_train_noise_2.reshape(60000,28,28)#reshaped data for image call\n",
    "plt.imshow(x_train_noise_2[0])\n",
    "\n",
    "print('Test loss:', score_noise_2[0])\n",
    "print('Test accuracy:', score_noise_2[1])"
   ]
  },
  {
   "cell_type": "code",
   "execution_count": null,
   "metadata": {},
   "outputs": [],
   "source": [
    "#figure comparing noise impact on loss and accuracy scores\n",
    "x = [1,2,3]\n",
    "y_test_loss_scores = [score[0], score_noise[0], score_noise_2[0]]\n",
    "y_test_accuracy_scores = [score[1], score_noise[1], score_noise_2[1]]\n",
    "\n",
    "plt.scatter(x,y_test_loss_scores, c='g', label='Loss')\n",
    "plt.scatter(x,y_test_accuracy_scores, c='r', label='Accuracy')\n",
    "plt.title('Impact of Noise on Model Loss(g) and Accuracy(r)')\n",
    "plt.xlabel('Models: Clean, Noise, Noise Factor 2')\n",
    "plt.ylabel('Score')\n",
    "plt.legend()\n",
    "plt.xticks(np.arange(min(x), max(x)+1))"
   ]
  }
 ],
 "metadata": {
  "kernelspec": {
   "display_name": "Python 3",
   "language": "python",
   "name": "python3"
  },
  "language_info": {
   "codemirror_mode": {
    "name": "ipython",
    "version": 3
   },
   "file_extension": ".py",
   "mimetype": "text/x-python",
   "name": "python",
   "nbconvert_exporter": "python",
   "pygments_lexer": "ipython3",
   "version": "3.6.7"
  }
 },
 "nbformat": 4,
 "nbformat_minor": 2
}
