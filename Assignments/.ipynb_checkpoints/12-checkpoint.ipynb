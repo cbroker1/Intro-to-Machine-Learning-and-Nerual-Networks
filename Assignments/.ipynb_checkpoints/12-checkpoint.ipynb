{
 "cells": [
  {
   "cell_type": "markdown",
   "metadata": {},
   "source": [
    "# Assignment 12 - Neural Networks image recognition\n",
    "Use both MLNN and the ConvNet to solve the following problem.\n",
    "\n",
    "1. Add random noise (i.e. `np.random.normal`) to the images in training and testing. Make sure each image gets a different noise feature added to it. Inspect by printing out an image. \n",
    "2. Compare the loss/accuracy (train, val) after N epochs for both MLNN and ConvNet with and without noise. \n",
    "3. Vary the amount of noise (multiply `np.random.normal` by a factor) and keep track of the accuracy and loss (for training and validation) and plot these results."
   ]
  },
  {
   "cell_type": "markdown",
   "metadata": {},
   "source": [
    "# Neural Networks - Image Recognition "
   ]
  },
  {
   "cell_type": "code",
   "execution_count": 1,
   "metadata": {},
   "outputs": [
    {
     "name": "stderr",
     "output_type": "stream",
     "text": [
      "Using TensorFlow backend.\n"
     ]
    }
   ],
   "source": [
    "import keras\n",
    "from keras.datasets import mnist\n",
    "from keras.models import Sequential\n",
    "from keras.optimizers import RMSprop\n",
    "from keras.layers import Dense, Dropout, Flatten\n",
    "from keras.layers import Conv2D, MaxPooling2D\n",
    "from keras import backend\n",
    "import matplotlib.pyplot as plt\n",
    "import numpy as np"
   ]
  },
  {
   "cell_type": "code",
   "execution_count": 2,
   "metadata": {},
   "outputs": [
    {
     "name": "stdout",
     "output_type": "stream",
     "text": [
      "60000 train samples\n",
      "10000 test samples\n"
     ]
    }
   ],
   "source": [
    "# the data, shuffled and split between train and test sets\n",
    "(x_train, y_train), (x_test, y_test) = mnist.load_data()\n",
    "\n",
    "x_train = x_train.reshape(60000, 784)\n",
    "x_test = x_test.reshape(10000, 784)\n",
    "x_train = x_train.astype('float32')\n",
    "x_test = x_test.astype('float32')\n",
    "x_train /= 255\n",
    "x_test /= 255\n",
    "print(x_train.shape[0], 'train samples')\n",
    "print(x_test.shape[0], 'test samples')"
   ]
  },
  {
   "cell_type": "code",
   "execution_count": 3,
   "metadata": {},
   "outputs": [],
   "source": [
    "#define noise\n",
    "huge_gaussian_noise_train = np. random.normal(0,1, x_train.shape)\n",
    "huge_gaussian_noise_test = np. random.normal(0,1, x_test.shape)"
   ]
  },
  {
   "cell_type": "code",
   "execution_count": 4,
   "metadata": {},
   "outputs": [],
   "source": [
    "#generate new x_train and x_test with noise\n",
    "NOISY = 0.15 #constant\n",
    "x_train_noise = huge_gaussian_noise_train * NOISY + x_train \n",
    "x_train_noise_2 = huge_gaussian_noise_train * (NOISY*2) + x_train"
   ]
  },
  {
   "cell_type": "code",
   "execution_count": 5,
   "metadata": {},
   "outputs": [],
   "source": [
    "#generate new x_train and x_test with facator 2 noise\n",
    "NOISY = 0.3 #constant\n",
    "x_test_noise = huge_gaussian_noise_test * NOISY + x_test \n",
    "x_test_noise_2 = huge_gaussian_noise_test * (NOISY*2) + x_test"
   ]
  },
  {
   "cell_type": "markdown",
   "metadata": {},
   "source": [
    "## Multi Layer Neural Network\n",
    "Trains a simple deep NN on the MNIST dataset.\n",
    "Gets to 98.40% test accuracy after 20 epochs\n",
    "(there is *a lot* of margin for parameter tuning)."
   ]
  },
  {
   "cell_type": "code",
   "execution_count": 6,
   "metadata": {
    "scrolled": true
   },
   "outputs": [
    {
     "name": "stdout",
     "output_type": "stream",
     "text": [
      "_________________________________________________________________\n",
      "Layer (type)                 Output Shape              Param #   \n",
      "=================================================================\n",
      "dense_1 (Dense)              (None, 512)               401920    \n",
      "_________________________________________________________________\n",
      "dropout_1 (Dropout)          (None, 512)               0         \n",
      "_________________________________________________________________\n",
      "dense_2 (Dense)              (None, 512)               262656    \n",
      "_________________________________________________________________\n",
      "dropout_2 (Dropout)          (None, 512)               0         \n",
      "_________________________________________________________________\n",
      "dense_3 (Dense)              (None, 10)                5130      \n",
      "=================================================================\n",
      "Total params: 669,706\n",
      "Trainable params: 669,706\n",
      "Non-trainable params: 0\n",
      "_________________________________________________________________\n",
      "Train on 60000 samples, validate on 10000 samples\n",
      "Epoch 1/20\n",
      "60000/60000 [==============================] - 8s 136us/step - loss: 0.2410 - acc: 0.9250 - val_loss: 0.1006 - val_acc: 0.9687\n",
      "Epoch 2/20\n",
      "60000/60000 [==============================] - 8s 133us/step - loss: 0.0996 - acc: 0.9698 - val_loss: 0.0789 - val_acc: 0.9761\n",
      "Epoch 3/20\n",
      "60000/60000 [==============================] - 9s 145us/step - loss: 0.0741 - acc: 0.9777 - val_loss: 0.0748 - val_acc: 0.9789\n",
      "Epoch 4/20\n",
      "60000/60000 [==============================] - 9s 158us/step - loss: 0.0596 - acc: 0.9818 - val_loss: 0.0812 - val_acc: 0.9785\n",
      "Epoch 5/20\n",
      "60000/60000 [==============================] - 9s 153us/step - loss: 0.0509 - acc: 0.9847 - val_loss: 0.0794 - val_acc: 0.9798\n",
      "Epoch 6/20\n",
      "60000/60000 [==============================] - 9s 149us/step - loss: 0.0425 - acc: 0.9872 - val_loss: 0.0758 - val_acc: 0.9803\n",
      "Epoch 7/20\n",
      "60000/60000 [==============================] - 9s 146us/step - loss: 0.0377 - acc: 0.9889 - val_loss: 0.0771 - val_acc: 0.9819\n",
      "Epoch 8/20\n",
      "60000/60000 [==============================] - 9s 149us/step - loss: 0.0335 - acc: 0.9902 - val_loss: 0.0789 - val_acc: 0.9832\n",
      "Epoch 9/20\n",
      "60000/60000 [==============================] - 9s 151us/step - loss: 0.0320 - acc: 0.9910 - val_loss: 0.0733 - val_acc: 0.9831\n",
      "Epoch 10/20\n",
      "60000/60000 [==============================] - 9s 149us/step - loss: 0.0271 - acc: 0.9919 - val_loss: 0.0890 - val_acc: 0.9831\n",
      "Epoch 11/20\n",
      "60000/60000 [==============================] - 10s 163us/step - loss: 0.0265 - acc: 0.9926 - val_loss: 0.0902 - val_acc: 0.9823\n",
      "Epoch 12/20\n",
      "60000/60000 [==============================] - 10s 164us/step - loss: 0.0239 - acc: 0.9927 - val_loss: 0.0955 - val_acc: 0.9814\n",
      "Epoch 13/20\n",
      "60000/60000 [==============================] - 9s 157us/step - loss: 0.0219 - acc: 0.9935 - val_loss: 0.1002 - val_acc: 0.9825\n",
      "Epoch 14/20\n",
      "60000/60000 [==============================] - 9s 156us/step - loss: 0.0196 - acc: 0.9944 - val_loss: 0.1066 - val_acc: 0.9839\n",
      "Epoch 15/20\n",
      "60000/60000 [==============================] - 10s 160us/step - loss: 0.0221 - acc: 0.9940 - val_loss: 0.1076 - val_acc: 0.9835\n",
      "Epoch 16/20\n",
      "60000/60000 [==============================] - 9s 157us/step - loss: 0.0187 - acc: 0.9953 - val_loss: 0.1092 - val_acc: 0.9830\n",
      "Epoch 17/20\n",
      "60000/60000 [==============================] - 9s 157us/step - loss: 0.0190 - acc: 0.9951 - val_loss: 0.1087 - val_acc: 0.9832\n",
      "Epoch 18/20\n",
      "60000/60000 [==============================] - 10s 163us/step - loss: 0.0180 - acc: 0.9952 - val_loss: 0.1096 - val_acc: 0.9828\n",
      "Epoch 19/20\n",
      "60000/60000 [==============================] - 10s 162us/step - loss: 0.0190 - acc: 0.9953 - val_loss: 0.1090 - val_acc: 0.9827\n",
      "Epoch 20/20\n",
      "60000/60000 [==============================] - 10s 161us/step - loss: 0.0182 - acc: 0.9953 - val_loss: 0.1113 - val_acc: 0.9831\n",
      "Test loss: 0.11131080565440384\n",
      "Test accuracy: 0.9831\n"
     ]
    }
   ],
   "source": [
    "#MLNN Clean\n",
    "\n",
    "batch_size = 128\n",
    "num_classes = 10\n",
    "epochs = 20\n",
    "\n",
    "# convert class vectors to binary class matrices\n",
    "y_train = keras.utils.to_categorical(y_train, num_classes)\n",
    "y_test = keras.utils.to_categorical(y_test, num_classes)\n",
    "\n",
    "model = Sequential()\n",
    "model.add(Dense(512, activation='relu', input_shape=(784,)))\n",
    "model.add(Dropout(0.2))\n",
    "model.add(Dense(512, activation='relu'))\n",
    "model.add(Dropout(0.2))\n",
    "model.add(Dense(10, activation='softmax'))\n",
    "\n",
    "model.summary()\n",
    "\n",
    "model.compile(loss='categorical_crossentropy',\n",
    "              optimizer=RMSprop(),\n",
    "              metrics=['accuracy'])\n",
    "\n",
    "history = model.fit(x_train, y_train,\n",
    "                    batch_size=batch_size,\n",
    "                    epochs=epochs,\n",
    "                    verbose=1,\n",
    "                    validation_data=(x_test, y_test))\n",
    "\n",
    "score = model.evaluate(x_test, y_test, verbose=0)\n",
    "print('Test loss:', score[0])\n",
    "print('Test accuracy:', score[1])"
   ]
  },
  {
   "cell_type": "code",
   "execution_count": 7,
   "metadata": {
    "scrolled": true
   },
   "outputs": [
    {
     "name": "stdout",
     "output_type": "stream",
     "text": [
      "_________________________________________________________________\n",
      "Layer (type)                 Output Shape              Param #   \n",
      "=================================================================\n",
      "dense_4 (Dense)              (None, 512)               401920    \n",
      "_________________________________________________________________\n",
      "dropout_3 (Dropout)          (None, 512)               0         \n",
      "_________________________________________________________________\n",
      "dense_5 (Dense)              (None, 512)               262656    \n",
      "_________________________________________________________________\n",
      "dropout_4 (Dropout)          (None, 512)               0         \n",
      "_________________________________________________________________\n",
      "dense_6 (Dense)              (None, 10)                5130      \n",
      "=================================================================\n",
      "Total params: 669,706\n",
      "Trainable params: 669,706\n",
      "Non-trainable params: 0\n",
      "_________________________________________________________________\n",
      "Train on 60000 samples, validate on 10000 samples\n",
      "Epoch 1/20\n",
      "60000/60000 [==============================] - 10s 163us/step - loss: 0.2833 - acc: 0.9117 - val_loss: 0.1868 - val_acc: 0.9418\n",
      "Epoch 2/20\n",
      "60000/60000 [==============================] - 10s 161us/step - loss: 0.1067 - acc: 0.9667 - val_loss: 0.1940 - val_acc: 0.9424\n",
      "Epoch 3/20\n",
      "60000/60000 [==============================] - 10s 160us/step - loss: 0.0623 - acc: 0.9805 - val_loss: 0.2244 - val_acc: 0.9433\n",
      "Epoch 4/20\n",
      "60000/60000 [==============================] - 9s 155us/step - loss: 0.0405 - acc: 0.9868 - val_loss: 0.3004 - val_acc: 0.9347\n",
      "Epoch 5/20\n",
      "60000/60000 [==============================] - 9s 157us/step - loss: 0.0298 - acc: 0.9902 - val_loss: 0.3082 - val_acc: 0.9392\n",
      "Epoch 6/20\n",
      "60000/60000 [==============================] - 10s 159us/step - loss: 0.0224 - acc: 0.9929 - val_loss: 0.3546 - val_acc: 0.9388\n",
      "Epoch 7/20\n",
      "60000/60000 [==============================] - 10s 167us/step - loss: 0.0202 - acc: 0.9938 - val_loss: 0.3508 - val_acc: 0.9423\n",
      "Epoch 8/20\n",
      "60000/60000 [==============================] - 11s 187us/step - loss: 0.0168 - acc: 0.9951 - val_loss: 0.3810 - val_acc: 0.9424\n",
      "Epoch 9/20\n",
      "60000/60000 [==============================] - 10s 168us/step - loss: 0.0159 - acc: 0.9954 - val_loss: 0.4039 - val_acc: 0.9428\n",
      "Epoch 10/20\n",
      "60000/60000 [==============================] - 10s 164us/step - loss: 0.0142 - acc: 0.9961 - val_loss: 0.4414 - val_acc: 0.9402\n",
      "Epoch 11/20\n",
      "60000/60000 [==============================] - 10s 162us/step - loss: 0.0133 - acc: 0.9962 - val_loss: 0.4712 - val_acc: 0.9375\n",
      "Epoch 12/20\n",
      "60000/60000 [==============================] - 9s 158us/step - loss: 0.0126 - acc: 0.9965 - val_loss: 0.4836 - val_acc: 0.9383\n",
      "Epoch 13/20\n",
      "60000/60000 [==============================] - 11s 189us/step - loss: 0.0136 - acc: 0.9961 - val_loss: 0.4432 - val_acc: 0.9448\n",
      "Epoch 14/20\n",
      "60000/60000 [==============================] - 11s 186us/step - loss: 0.0097 - acc: 0.9974 - val_loss: 0.5130 - val_acc: 0.9382\n",
      "Epoch 15/20\n",
      "60000/60000 [==============================] - 11s 179us/step - loss: 0.0104 - acc: 0.9971 - val_loss: 0.5306 - val_acc: 0.9385\n",
      "Epoch 16/20\n",
      "60000/60000 [==============================] - 10s 163us/step - loss: 0.0107 - acc: 0.9971 - val_loss: 0.5044 - val_acc: 0.9402\n",
      "Epoch 17/20\n",
      "60000/60000 [==============================] - 10s 162us/step - loss: 0.0100 - acc: 0.9973 - val_loss: 0.5406 - val_acc: 0.9355\n",
      "Epoch 18/20\n",
      "60000/60000 [==============================] - 10s 168us/step - loss: 0.0100 - acc: 0.9972 - val_loss: 0.5423 - val_acc: 0.9385\n",
      "Epoch 19/20\n",
      "60000/60000 [==============================] - 10s 174us/step - loss: 0.0101 - acc: 0.9974 - val_loss: 0.5342 - val_acc: 0.9392\n",
      "Epoch 20/20\n",
      "60000/60000 [==============================] - 10s 167us/step - loss: 0.0091 - acc: 0.9975 - val_loss: 0.5449 - val_acc: 0.9395\n",
      "Test loss: 0.5449257417006261\n",
      "Test accuracy: 0.9395\n"
     ]
    }
   ],
   "source": [
    "#noise\n",
    "\n",
    "batch_size = 128\n",
    "num_classes = 10\n",
    "epochs = 20\n",
    "\n",
    "# convert class vectors to binary class matrices\n",
    "#y_train = keras.utils.to_categorical(y_train, num_classes)\n",
    "#y_test = keras.utils.to_categorical(y_test, num_classes)\n",
    "\n",
    "model_noise = Sequential()\n",
    "model_noise.add(Dense(512, activation='relu', input_shape=(784,)))\n",
    "model_noise.add(Dropout(0.2))\n",
    "model_noise.add(Dense(512, activation='relu'))\n",
    "model_noise.add(Dropout(0.2))\n",
    "model_noise.add(Dense(10, activation='softmax'))\n",
    "\n",
    "model_noise.summary()\n",
    "\n",
    "model_noise.compile(loss='categorical_crossentropy',\n",
    "              optimizer=RMSprop(),\n",
    "              metrics=['accuracy'])\n",
    "\n",
    "history_noise = model_noise.fit(x_train_noise, y_train,\n",
    "                    batch_size=batch_size,\n",
    "                    epochs=epochs,\n",
    "                    verbose=1,\n",
    "                    validation_data=(x_test_noise, y_test))\n",
    "\n",
    "score_noise = model_noise.evaluate(x_test_noise, y_test, verbose=0)\n",
    "print('Test loss:', score_noise[0])\n",
    "print('Test accuracy:', score_noise[1])"
   ]
  },
  {
   "cell_type": "code",
   "execution_count": 8,
   "metadata": {
    "scrolled": true
   },
   "outputs": [
    {
     "name": "stdout",
     "output_type": "stream",
     "text": [
      "_________________________________________________________________\n",
      "Layer (type)                 Output Shape              Param #   \n",
      "=================================================================\n",
      "dense_7 (Dense)              (None, 512)               401920    \n",
      "_________________________________________________________________\n",
      "dropout_5 (Dropout)          (None, 512)               0         \n",
      "_________________________________________________________________\n",
      "dense_8 (Dense)              (None, 512)               262656    \n",
      "_________________________________________________________________\n",
      "dropout_6 (Dropout)          (None, 512)               0         \n",
      "_________________________________________________________________\n",
      "dense_9 (Dense)              (None, 10)                5130      \n",
      "=================================================================\n",
      "Total params: 669,706\n",
      "Trainable params: 669,706\n",
      "Non-trainable params: 0\n",
      "_________________________________________________________________\n",
      "Train on 60000 samples, validate on 10000 samples\n",
      "Epoch 1/20\n",
      "60000/60000 [==============================] - 11s 178us/step - loss: 0.3791 - acc: 0.8786 - val_loss: 0.4712 - val_acc: 0.8574\n",
      "Epoch 2/20\n",
      "60000/60000 [==============================] - 11s 192us/step - loss: 0.1456 - acc: 0.9549 - val_loss: 0.5476 - val_acc: 0.8640\n",
      "Epoch 3/20\n",
      "60000/60000 [==============================] - 9s 157us/step - loss: 0.0767 - acc: 0.9755 - val_loss: 0.7505 - val_acc: 0.8450\n",
      "Epoch 4/20\n",
      "60000/60000 [==============================] - 9s 157us/step - loss: 0.0446 - acc: 0.9854 - val_loss: 0.9847 - val_acc: 0.8409\n",
      "Epoch 5/20\n",
      "60000/60000 [==============================] - 9s 156us/step - loss: 0.0318 - acc: 0.9897 - val_loss: 1.1219 - val_acc: 0.8384\n",
      "Epoch 6/20\n",
      "60000/60000 [==============================] - 9s 156us/step - loss: 0.0260 - acc: 0.9913 - val_loss: 1.2766 - val_acc: 0.8375\n",
      "Epoch 7/20\n",
      "60000/60000 [==============================] - 9s 158us/step - loss: 0.0225 - acc: 0.9927 - val_loss: 1.2181 - val_acc: 0.8516\n",
      "Epoch 8/20\n",
      "60000/60000 [==============================] - 11s 178us/step - loss: 0.0196 - acc: 0.9934 - val_loss: 1.3099 - val_acc: 0.8474\n",
      "Epoch 9/20\n",
      "60000/60000 [==============================] - 11s 175us/step - loss: 0.0187 - acc: 0.9941 - val_loss: 1.3872 - val_acc: 0.8449\n",
      "Epoch 10/20\n",
      "60000/60000 [==============================] - 10s 165us/step - loss: 0.0179 - acc: 0.9946 - val_loss: 1.4303 - val_acc: 0.8435\n",
      "Epoch 11/20\n",
      "60000/60000 [==============================] - 11s 183us/step - loss: 0.0159 - acc: 0.9953 - val_loss: 1.4023 - val_acc: 0.8524\n",
      "Epoch 12/20\n",
      "60000/60000 [==============================] - 10s 168us/step - loss: 0.0152 - acc: 0.9957 - val_loss: 1.5227 - val_acc: 0.8428\n",
      "Epoch 13/20\n",
      "60000/60000 [==============================] - 9s 157us/step - loss: 0.0145 - acc: 0.9960 - val_loss: 1.5346 - val_acc: 0.8459\n",
      "Epoch 14/20\n",
      "60000/60000 [==============================] - 9s 158us/step - loss: 0.0114 - acc: 0.9970 - val_loss: 1.5161 - val_acc: 0.8474\n",
      "Epoch 15/20\n",
      "60000/60000 [==============================] - 9s 157us/step - loss: 0.0118 - acc: 0.9968 - val_loss: 1.6429 - val_acc: 0.8420\n",
      "Epoch 16/20\n",
      "60000/60000 [==============================] - 10s 162us/step - loss: 0.0132 - acc: 0.9965 - val_loss: 1.6490 - val_acc: 0.8411\n",
      "Epoch 17/20\n",
      "60000/60000 [==============================] - 11s 183us/step - loss: 0.0116 - acc: 0.9970 - val_loss: 1.7759 - val_acc: 0.8349\n",
      "Epoch 18/20\n",
      "60000/60000 [==============================] - 10s 162us/step - loss: 0.0134 - acc: 0.9965 - val_loss: 1.7091 - val_acc: 0.8391\n",
      "Epoch 19/20\n",
      "60000/60000 [==============================] - 10s 165us/step - loss: 0.0138 - acc: 0.9963 - val_loss: 1.6712 - val_acc: 0.8424\n",
      "Epoch 20/20\n",
      "60000/60000 [==============================] - 10s 165us/step - loss: 0.0132 - acc: 0.9968 - val_loss: 1.6767 - val_acc: 0.8449\n",
      "Test loss: 1.6766765861653439\n",
      "Test accuracy: 0.8449\n"
     ]
    }
   ],
   "source": [
    "#noise factor 2\n",
    "\n",
    "batch_size = 128\n",
    "num_classes = 10\n",
    "epochs = 20\n",
    "\n",
    "# convert class vectors to binary class matrices\n",
    "#y_train = keras.utils.to_categorical(y_train, num_classes)\n",
    "#y_test = keras.utils.to_categorical(y_test, num_classes)\n",
    "\n",
    "model_noise_2 = Sequential()\n",
    "model_noise_2.add(Dense(512, activation='relu', input_shape=(784,)))\n",
    "model_noise_2.add(Dropout(0.2))\n",
    "model_noise_2.add(Dense(512, activation='relu'))\n",
    "model_noise_2.add(Dropout(0.2))\n",
    "model_noise_2.add(Dense(10, activation='softmax'))\n",
    "\n",
    "model_noise_2.summary()\n",
    "\n",
    "model_noise_2.compile(loss='categorical_crossentropy',\n",
    "              optimizer=RMSprop(),\n",
    "              metrics=['accuracy'])\n",
    "\n",
    "history_noise_2 = model_noise_2.fit(x_train_noise_2, y_train,\n",
    "                    batch_size=batch_size,\n",
    "                    epochs=epochs,\n",
    "                    verbose=1,\n",
    "                    validation_data=(x_test_noise_2, y_test))\n",
    "\n",
    "score_noise_2 = model_noise_2.evaluate(x_test_noise_2, y_test, verbose=0)\n",
    "print('Test loss:', score_noise_2[0])\n",
    "print('Test accuracy:', score_noise_2[1])"
   ]
  },
  {
   "cell_type": "markdown",
   "metadata": {},
   "source": [
    "# MLNN Figures:"
   ]
  },
  {
   "cell_type": "code",
   "execution_count": 9,
   "metadata": {},
   "outputs": [
    {
     "name": "stdout",
     "output_type": "stream",
     "text": [
      "Test loss: 0.11131080565440384\n",
      "Test accuracy: 0.9831\n"
     ]
    },
    {
     "data": {
      "image/png": "[encoded data removed]",
      "text/plain": [
       "<Figure size 432x288 with 1 Axes>"
      ]
     },
     "metadata": {
      "needs_background": "light"
     },
     "output_type": "display_data"
    }
   ],
   "source": [
    "#clean\n",
    "x_train = x_train.reshape(60000,28,28)#reshaped data for image call\n",
    "plt.imshow(x_train[0])\n",
    "\n",
    "print('Test loss:', score[0])\n",
    "print('Test accuracy:', score[1])"
   ]
  },
  {
   "cell_type": "code",
   "execution_count": 10,
   "metadata": {},
   "outputs": [
    {
     "name": "stdout",
     "output_type": "stream",
     "text": [
      "Test loss: 0.5449257417006261\n",
      "Test accuracy: 0.9395\n"
     ]
    },
    {
     "data": {
      "image/png": "[encoded data removed]",
      "text/plain": [
       "<Figure size 432x288 with 1 Axes>"
      ]
     },
     "metadata": {
      "needs_background": "light"
     },
     "output_type": "display_data"
    }
   ],
   "source": [
    "#noise\n",
    "x_train_noise = x_train_noise.reshape(60000,28,28)#reshaped data for image call\n",
    "plt.imshow(x_train_noise[0])\n",
    "\n",
    "print('Test loss:', score_noise[0])\n",
    "print('Test accuracy:', score_noise[1])"
   ]
  },
  {
   "cell_type": "code",
   "execution_count": 11,
   "metadata": {},
   "outputs": [
    {
     "name": "stdout",
     "output_type": "stream",
     "text": [
      "Test loss: 1.6766765861653439\n",
      "Test accuracy: 0.8449\n"
     ]
    },
    {
     "data": {
      "image/png": "[encoded data removed]",
      "text/plain": [
       "<Figure size 432x288 with 1 Axes>"
      ]
     },
     "metadata": {
      "needs_background": "light"
     },
     "output_type": "display_data"
    }
   ],
   "source": [
    "#noise factor 2\n",
    "x_train_noise_2 = x_train_noise_2.reshape(60000,28,28)#reshaped data for image call\n",
    "plt.imshow(x_train_noise_2[0])\n",
    "\n",
    "print('Test loss:', score_noise_2[0])\n",
    "print('Test accuracy:', score_noise_2[1])"
   ]
  },
  {
   "cell_type": "code",
   "execution_count": 24,
   "metadata": {},
   "outputs": [
    {
     "data": {
      "text/plain": [
       "([<matplotlib.axis.XTick at 0x2460f74e898>,\n",
       "  <matplotlib.axis.XTick at 0x2460f74e208>,\n",
       "  <matplotlib.axis.XTick at 0x2460f720550>],\n",
       " <a list of 3 Text xticklabel objects>)"
      ]
     },
     "execution_count": 24,
     "metadata": {},
     "output_type": "execute_result"
    },
    {
     "data": {
      "image/png": "[encoded data removed]",
      "text/plain": [
       "<Figure size 432x288 with 1 Axes>"
      ]
     },
     "metadata": {
      "needs_background": "light"
     },
     "output_type": "display_data"
    }
   ],
   "source": [
    "#figure comparing noise impact on loss and accuracy scores\n",
    "x = [1,2,3]\n",
    "y_test_loss_scores = [score[0], score_noise[0], score_noise_2[0]]\n",
    "y_test_accuracy_scores = [score[1], score_noise[1], score_noise_2[1]]\n",
    "\n",
    "plt.scatter(x,y_test_loss_scores, c='g', label='Loss')\n",
    "plt.scatter(x,y_test_accuracy_scores, c='r', label='Accuracy')\n",
    "plt.title('Impact of Noise on Model Loss(g) and Accuracy(r)')\n",
    "plt.xlabel('Models: Clean, Noise, Noise Factor 2')\n",
    "plt.ylabel('Score')\n",
    "plt.legend()\n",
    "plt.xticks(np.arange(min(x), max(x)+1))"
   ]
  },
  {
   "cell_type": "markdown",
   "metadata": {},
   "source": [
    "## Conv Net\n",
    "Trains a simple convnet on the MNIST dataset.\n",
    "Gets to 99.25% test accuracy after 12 epochs\n",
    "(there is still a lot of margin for parameter tuning).\n"
   ]
  },
  {
   "cell_type": "code",
   "execution_count": null,
   "metadata": {
    "scrolled": true
   },
   "outputs": [],
   "source": [
    "# input image dimensions\n",
    "img_rows, img_cols = 28, 28\n",
    "\n",
    "# the data, shuffled and split between train and test sets\n",
    "(x_train, y_train), (x_test, y_test) = mnist.load_data()\n",
    "\n",
    "if backend.image_data_format() == 'channels_first':\n",
    "    x_train = x_train.reshape(x_train.shape[0], 1, img_rows, img_cols)\n",
    "    x_test = x_test.reshape(x_test.shape[0], 1, img_rows, img_cols)\n",
    "    input_shape = (1, img_rows, img_cols)\n",
    "else:\n",
    "    x_train = x_train.reshape(x_train.shape[0], img_rows, img_cols, 1)\n",
    "    x_test = x_test.reshape(x_test.shape[0], img_rows, img_cols, 1)\n",
    "    input_shape = (img_rows, img_cols, 1)\n",
    "\n",
    "x_train = x_train.astype('float32')\n",
    "x_test = x_test.astype('float32')\n",
    "x_train /= 255\n",
    "x_test /= 255\n",
    "print('x_train shape:', x_train.shape)\n",
    "print(x_train.shape[0], 'train samples')\n",
    "print(x_test.shape[0], 'test samples')"
   ]
  },
  {
   "cell_type": "code",
   "execution_count": null,
   "metadata": {},
   "outputs": [],
   "source": [
    "batch_size = 128\n",
    "num_classes = 10\n",
    "epochs = 12\n",
    "\n",
    "# convert class vectors to binary class matrices\n",
    "y_train = keras.utils.to_categorical(y_train, num_classes)\n",
    "y_test = keras.utils.to_categorical(y_test, num_classes)\n",
    "\n",
    "model = Sequential()\n",
    "model.add(Conv2D(32, kernel_size=(3, 3),\n",
    "                 activation='relu',\n",
    "                 input_shape=input_shape))\n",
    "model.add(Conv2D(64, (3, 3), activation='relu'))\n",
    "model.add(MaxPooling2D(pool_size=(2, 2)))\n",
    "model.add(Dropout(0.25))\n",
    "model.add(Flatten())\n",
    "model.add(Dense(128, activation='relu'))\n",
    "model.add(Dropout(0.5))\n",
    "model.add(Dense(num_classes, activation='softmax'))\n",
    "\n",
    "model.compile(loss=keras.losses.categorical_crossentropy,\n",
    "              optimizer=keras.optimizers.Adadelta(),\n",
    "              metrics=['accuracy'])\n",
    "\n",
    "model.fit(x_train, y_train,\n",
    "          batch_size=batch_size,\n",
    "          epochs=epochs,\n",
    "          verbose=1,\n",
    "          validation_data=(x_test, y_test))\n",
    "score = model.evaluate(x_test, y_test, verbose=0)\n",
    "print('Test loss:', score[0])\n",
    "print('Test accuracy:', score[1])"
   ]
  },
  {
   "cell_type": "code",
   "execution_count": null,
   "metadata": {},
   "outputs": [],
   "source": []
  }
 ],
 "metadata": {
  "kernelspec": {
   "display_name": "Python 3",
   "language": "python",
   "name": "python3"
  },
  "language_info": {
   "codemirror_mode": {
    "name": "ipython",
    "version": 3
   },
   "file_extension": ".py",
   "mimetype": "text/x-python",
   "name": "python",
   "nbconvert_exporter": "python",
   "pygments_lexer": "ipython3",
   "version": "3.6.7"
  }
 },
 "nbformat": 4,
 "nbformat_minor": 2
}
